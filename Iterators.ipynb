{
  "nbformat": 4,
  "nbformat_minor": 0,
  "metadata": {
    "colab": {
      "name": "Iterators.ipynb",
      "provenance": [],
      "authorship_tag": "ABX9TyMwcYDkDa7JduJk9eddtOpg",
      "include_colab_link": true
    },
    "kernelspec": {
      "name": "python3",
      "display_name": "Python 3"
    }
  },
  "cells": [
    {
      "cell_type": "markdown",
      "metadata": {
        "id": "view-in-github",
        "colab_type": "text"
      },
      "source": [
        "<a href=\"https://colab.research.google.com/github/AnupJoseph/adv-python/blob/master/Iterators.ipynb\" target=\"_parent\"><img src=\"https://colab.research.google.com/assets/colab-badge.svg\" alt=\"Open In Colab\"/></a>"
      ]
    },
    {
      "cell_type": "code",
      "metadata": {
        "id": "sLQtCvHz6iuZ",
        "colab_type": "code",
        "colab": {}
      },
      "source": [
        "import itertools as it\n",
        "import operator\n",
        "import random"
      ],
      "execution_count": 6,
      "outputs": []
    },
    {
      "cell_type": "code",
      "metadata": {
        "id": "zErls6vzu9vi",
        "colab_type": "code",
        "colab": {}
      },
      "source": [
        "# The zip function takes any number of iterators as input arguements and returns an iterator over the tuplesof corresponding elements"
      ],
      "execution_count": null,
      "outputs": []
    },
    {
      "cell_type": "code",
      "metadata": {
        "id": "xjh9OF1dwLIw",
        "colab_type": "code",
        "colab": {
          "base_uri": "https://localhost:8080/",
          "height": 34
        },
        "outputId": "a3ed4616-1111-4a28-8a76-928e4329e3b8"
      },
      "source": [
        "tuple(zip([1,2,3],['a','d','f']))"
      ],
      "execution_count": null,
      "outputs": [
        {
          "output_type": "execute_result",
          "data": {
            "text/plain": [
              "((1, 'a'), (2, 'd'), (3, 'f'))"
            ]
          },
          "metadata": {
            "tags": []
          },
          "execution_count": 3
        }
      ]
    },
    {
      "cell_type": "code",
      "metadata": {
        "id": "b8W_rZ4Q0POJ",
        "colab_type": "code",
        "colab": {}
      },
      "source": [
        "# An iterator means you can get its elements one at a time and this trick is used by zip to gather them together\n",
        "# Under the hood, the zip() function works, in essence, by calling iter() on each of its arguments, \n",
        "# then advancing each iterator returned by iter() with next() and aggregating the results into tuples. \n",
        "# The iterator returned by zip() iterates over these tuples."
      ],
      "execution_count": null,
      "outputs": []
    },
    {
      "cell_type": "code",
      "metadata": {
        "id": "wQjDrnPc0tWf",
        "colab_type": "code",
        "colab": {}
      },
      "source": [
        "# The map() built-in function is another “iterator operator” that, \n",
        "# in its simplest form, applies a single-parameter function to each element of an iterable one element at a time:"
      ],
      "execution_count": null,
      "outputs": []
    },
    {
      "cell_type": "code",
      "metadata": {
        "id": "221Tmd3nq-FX",
        "colab_type": "code",
        "colab": {
          "base_uri": "https://localhost:8080/",
          "height": 34
        },
        "outputId": "5b4c7a31-7ae5-454d-c4bf-b4a026604b2c"
      },
      "source": [
        "list(map(len,['abc','dwqa','p','']))"
      ],
      "execution_count": null,
      "outputs": [
        {
          "output_type": "execute_result",
          "data": {
            "text/plain": [
              "[3, 4, 1, 0]"
            ]
          },
          "metadata": {
            "tags": []
          },
          "execution_count": 6
        }
      ]
    },
    {
      "cell_type": "code",
      "metadata": {
        "id": "Exg6pXrCr4Rr",
        "colab_type": "code",
        "colab": {
          "base_uri": "https://localhost:8080/",
          "height": 34
        },
        "outputId": "9a6298f1-34c8-4353-ebcc-e014a50a8314"
      },
      "source": [
        "# Now of course iterators themselves are iterable so you can combine them together\n",
        "# This type of combinations are called iterator algebra combinations and a simply suprising. In their sheer pwer and usage.\n",
        "list(map(sum,zip([2,3,4],(1,2,5))))"
      ],
      "execution_count": null,
      "outputs": [
        {
          "output_type": "execute_result",
          "data": {
            "text/plain": [
              "[3, 5, 9]"
            ]
          },
          "metadata": {
            "tags": []
          },
          "execution_count": 7
        }
      ]
    },
    {
      "cell_type": "code",
      "metadata": {
        "id": "wvQswX-rsoJy",
        "colab_type": "code",
        "colab": {
          "base_uri": "https://localhost:8080/",
          "height": 34
        },
        "outputId": "28d57690-c8e7-472a-a735-f19d65def70d"
      },
      "source": [
        "# Given a list of values inputs and a positive integer n, write a function that splits inputs into groups of length n. \n",
        "# For simplicity, assume that the length of the input list is divisible by n. \n",
        "# For example, if inputs = [1, 2, 3, 4, 5, 6] and n = 2, your function should return [(1, 2), (3, 4), (5, 6)].\n",
        "\n",
        "# A real naive approach\n",
        "def naive_grouper(inputs, n):\n",
        "    num_groups = len(inputs) // n\n",
        "    return [tuple(inputs[i*n:(i+1)*n]) for i in range(num_groups)]\n",
        "nums = [1, 2, 3, 4, 5, 6, 7, 8, 9, 10]\n",
        "naive_grouper(nums, 2)\n",
        "\n",
        "# If you use this approach for a list say of length 10 million.\n",
        "# Your computer will die in a agonising crash by losing all available memory to just this process"
      ],
      "execution_count": null,
      "outputs": [
        {
          "output_type": "execute_result",
          "data": {
            "text/plain": [
              "[(1, 2), (3, 4), (5, 6), (7, 8), (9, 10)]"
            ]
          },
          "metadata": {
            "tags": []
          },
          "execution_count": 8
        }
      ]
    },
    {
      "cell_type": "code",
      "metadata": {
        "id": "cflkWb7usztc",
        "colab_type": "code",
        "colab": {
          "base_uri": "https://localhost:8080/",
          "height": 34
        },
        "outputId": "c0b90f8b-9618-443a-9878-dee27e1a12bc"
      },
      "source": [
        "# Now we use a  cool iterator algebra technique\n",
        "\n",
        "def iter_grouper(inputs,n):\n",
        "  iters = [iter(inputs)]*n\n",
        "  return zip(*iters)\n",
        "\n",
        "nums = [1, 2, 3, 4, 5, 6, 7, 8, 9, 10]\n",
        "list(iter_grouper(nums,5))\n",
        "# I'll break this function down. The expression iters = [iter(inputs)]*n gives n references to the inputs array.\n",
        "# However these references are the exact same list i.e. n references are created to the same array\n",
        "# Since there are n arrays the zip(*iters) function is actually doing zip(inputs, inputs, inputs.. inputs) these are all the same arrays.\n",
        "# When the __next__ is called on each list they are being all called on the same damn list. \n",
        "# Thus making one element fter the other come out of the array in a pop fashion. This of course leads to n tupes"
      ],
      "execution_count": null,
      "outputs": [
        {
          "output_type": "execute_result",
          "data": {
            "text/plain": [
              "[(1, 2, 3, 4, 5), (6, 7, 8, 9, 10)]"
            ]
          },
          "metadata": {
            "tags": []
          },
          "execution_count": 9
        }
      ]
    },
    {
      "cell_type": "code",
      "metadata": {
        "id": "ZbyJ7c2Wtk9-",
        "colab_type": "code",
        "colab": {
          "base_uri": "https://localhost:8080/",
          "height": 34
        },
        "outputId": "3c04fbd6-fb7a-4662-8120-35fe9acb3d26"
      },
      "source": [
        "# Now this implementation of the grouper cool as it is doesn't look at a very important caveat \n",
        "# the fact that if length is notperfectly divisible this gives the wrong answer\n",
        "# So we use itertools to handle that caveat\n",
        "\n",
        "def coolest_grouper(inputs,n,fillvalue=None):\n",
        "  iters = [iter(inputs)]*n\n",
        "  return it.zip_longest(*iters,fillvalue = fillvalue)\n",
        "\n",
        "nums = [1, 2, 3, 4, 5, 6, 7, 8, 9, 10]\n",
        "print(list(coolest_grouper(nums,7)))"
      ],
      "execution_count": null,
      "outputs": [
        {
          "output_type": "stream",
          "text": [
            "[(1, 2, 3, 4, 5, 6, 7), (8, 9, 10, None, None, None, None)]\n"
          ],
          "name": "stdout"
        }
      ]
    },
    {
      "cell_type": "code",
      "metadata": {
        "id": "pH_K82HKG6Dv",
        "colab_type": "code",
        "colab": {
          "base_uri": "https://localhost:8080/",
          "height": 34
        },
        "outputId": "d4008612-b389-4f34-d4e9-82ab7019ad78"
      },
      "source": [
        "# To enumerate a dynamic list\n",
        "list(zip(it.count(),['a','b','c']))"
      ],
      "execution_count": null,
      "outputs": [
        {
          "output_type": "execute_result",
          "data": {
            "text/plain": [
              "[(0, 'a'), (1, 'b'), (2, 'c')]"
            ]
          },
          "metadata": {
            "tags": []
          },
          "execution_count": 12
        }
      ]
    },
    {
      "cell_type": "code",
      "metadata": {
        "id": "ZYNA5T3JH0nG",
        "colab_type": "code",
        "colab": {}
      },
      "source": [
        "def fib():\n",
        "  a,b = 0,1\n",
        "  while True:\n",
        "    yield a\n",
        "    a,b = b,a+b"
      ],
      "execution_count": null,
      "outputs": []
    },
    {
      "cell_type": "code",
      "metadata": {
        "id": "ba1-781iJHWA",
        "colab_type": "code",
        "colab": {}
      },
      "source": [
        "# Generating a alternating tuple\n",
        "alternating = it.cycle([1,-1])"
      ],
      "execution_count": null,
      "outputs": []
    },
    {
      "cell_type": "code",
      "metadata": {
        "id": "d9gNxSWqJeyL",
        "colab_type": "code",
        "colab": {}
      },
      "source": [
        "# The goal of this section, though, is to produce a single function that can generate any first order recurrence relation\n",
        "# just pass it P, Q, and an initial value.\n",
        "# For this we need another tool\n",
        "# The accumulate() function takes two arguments—an iterable inputs and a binary function func (that is, a function with exactly two inputs)\n",
        "# —and returns an iterator over accumulated results of applying func to elements of inputs."
      ],
      "execution_count": null,
      "outputs": []
    },
    {
      "cell_type": "code",
      "metadata": {
        "id": "MdR1ApaPJ6hp",
        "colab_type": "code",
        "colab": {
          "base_uri": "https://localhost:8080/",
          "height": 34
        },
        "outputId": "f48f2d5f-7882-479b-d1b4-c0b30218c185"
      },
      "source": [
        "# To generate the sum of series for each term\n",
        "adder = it.accumulate([1,2,3,4,5,6],operator.add)\n",
        "\n",
        "list(adder)"
      ],
      "execution_count": null,
      "outputs": [
        {
          "output_type": "execute_result",
          "data": {
            "text/plain": [
              "[1, 3, 6, 10, 15, 21]"
            ]
          },
          "metadata": {
            "tags": []
          },
          "execution_count": 17
        }
      ]
    },
    {
      "cell_type": "code",
      "metadata": {
        "id": "Ji_yYkR3LJ8-",
        "colab_type": "code",
        "colab": {
          "base_uri": "https://localhost:8080/",
          "height": 34
        },
        "outputId": "45fe67d6-4172-46e9-8f85-3a6a09db80e2"
      },
      "source": [
        "# To keep track of running minimum\n",
        "minima = it.accumulate([9, 21, 17, 5, 11, 12, 2, 6],min)\n",
        "list(minima)"
      ],
      "execution_count": null,
      "outputs": [
        {
          "output_type": "execute_result",
          "data": {
            "text/plain": [
              "[9, 9, 9, 5, 5, 5, 2, 2]"
            ]
          },
          "metadata": {
            "tags": []
          },
          "execution_count": 19
        }
      ]
    },
    {
      "cell_type": "code",
      "metadata": {
        "id": "lsF9xhv1LspT",
        "colab_type": "code",
        "colab": {}
      },
      "source": [
        "# The order of the arguments in the binary function passed to accumulate() is important. \n",
        "# The first argument is always the previously accumulated result and the second argument is always the next element of the input iterable."
      ],
      "execution_count": null,
      "outputs": []
    },
    {
      "cell_type": "code",
      "metadata": {
        "id": "1GJuB37YMEG0",
        "colab_type": "code",
        "colab": {}
      },
      "source": [
        "# To model a recurrence relation\n",
        "# S(i) = P(S(i-1)) + Q\n",
        "\n",
        "def first_order(p,q,initial_val):\n",
        "  return it.accumulate(it.repeat(initial_val),lambda s,_ : p*s + q)"
      ],
      "execution_count": null,
      "outputs": []
    },
    {
      "cell_type": "code",
      "metadata": {
        "id": "I73a1t44MvIn",
        "colab_type": "code",
        "colab": {
          "base_uri": "https://localhost:8080/",
          "height": 34
        },
        "outputId": "ac705627-58ae-42ec-eaf3-c8482639b4e7"
      },
      "source": [
        "evens = first_order(p=1, q=2, initial_val=0)\n",
        "list(next(evens) for _ in range(5))"
      ],
      "execution_count": null,
      "outputs": [
        {
          "output_type": "execute_result",
          "data": {
            "text/plain": [
              "[0, 2, 4, 6, 8]"
            ]
          },
          "metadata": {
            "tags": []
          },
          "execution_count": 26
        }
      ]
    },
    {
      "cell_type": "code",
      "metadata": {
        "id": "rUeFVz0kMyhm",
        "colab_type": "code",
        "colab": {
          "base_uri": "https://localhost:8080/",
          "height": 34
        },
        "outputId": "64a9fa87-d680-4fcb-c671-8f7349534a03"
      },
      "source": [
        "odds = first_order(p=1, q=2, initial_val=1)\n",
        "list(next(odds) for _ in range(5))"
      ],
      "execution_count": null,
      "outputs": [
        {
          "output_type": "execute_result",
          "data": {
            "text/plain": [
              "[1, 3, 5, 7, 9]"
            ]
          },
          "metadata": {
            "tags": []
          },
          "execution_count": 27
        }
      ]
    },
    {
      "cell_type": "code",
      "metadata": {
        "id": "u63M1DmtM9EO",
        "colab_type": "code",
        "colab": {
          "base_uri": "https://localhost:8080/",
          "height": 34
        },
        "outputId": "09617bb1-1008-4ef2-db4f-935d407bdf02"
      },
      "source": [
        "count_by_threes = first_order(p=1, q=3, initial_val=0)\n",
        "list(next(count_by_threes) for _ in range(5))"
      ],
      "execution_count": null,
      "outputs": [
        {
          "output_type": "execute_result",
          "data": {
            "text/plain": [
              "[0, 3, 6, 9, 12]"
            ]
          },
          "metadata": {
            "tags": []
          },
          "execution_count": 28
        }
      ]
    },
    {
      "cell_type": "code",
      "metadata": {
        "id": "glFcQ4upNAcf",
        "colab_type": "code",
        "colab": {
          "base_uri": "https://localhost:8080/",
          "height": 34
        },
        "outputId": "5ed73111-69f3-4a72-cbb9-2cf546c7028e"
      },
      "source": [
        "count_by_fours = first_order(p=1, q=4, initial_val=0)\n",
        "list(next(count_by_fours) for _ in range(5))"
      ],
      "execution_count": null,
      "outputs": [
        {
          "output_type": "execute_result",
          "data": {
            "text/plain": [
              "[0, 4, 8, 12, 16]"
            ]
          },
          "metadata": {
            "tags": []
          },
          "execution_count": 29
        }
      ]
    },
    {
      "cell_type": "code",
      "metadata": {
        "id": "pe3SD6G8NFPu",
        "colab_type": "code",
        "colab": {
          "base_uri": "https://localhost:8080/",
          "height": 34
        },
        "outputId": "1e1c4616-db48-49ba-ce81-97f38d11ed8c"
      },
      "source": [
        "all_ones = first_order(p=1, q=0, initial_val=1)\n",
        "list(next(all_ones) for _ in range(5))"
      ],
      "execution_count": null,
      "outputs": [
        {
          "output_type": "execute_result",
          "data": {
            "text/plain": [
              "[1, 1, 1, 1, 1]"
            ]
          },
          "metadata": {
            "tags": []
          },
          "execution_count": 30
        }
      ]
    },
    {
      "cell_type": "code",
      "metadata": {
        "id": "tnTXCYQcNI5N",
        "colab_type": "code",
        "colab": {
          "base_uri": "https://localhost:8080/",
          "height": 34
        },
        "outputId": "384e602b-eae8-4715-b7d7-ce48347d79f0"
      },
      "source": [
        "all_twos = first_order(p=1, q=0, initial_val=2)\n",
        "list(next(all_twos) for _ in range(5))"
      ],
      "execution_count": null,
      "outputs": [
        {
          "output_type": "execute_result",
          "data": {
            "text/plain": [
              "[2, 2, 2, 2, 2]"
            ]
          },
          "metadata": {
            "tags": []
          },
          "execution_count": 32
        }
      ]
    },
    {
      "cell_type": "code",
      "metadata": {
        "id": "w-uvPlLxNMKq",
        "colab_type": "code",
        "colab": {
          "base_uri": "https://localhost:8080/",
          "height": 34
        },
        "outputId": "d6fc6f00-6d0a-4a07-df95-eb16fa56dc33"
      },
      "source": [
        "alternating_ones = first_order(p=-1, q=0, initial_val=1)\n",
        "list(next(alternating_ones) for _ in range(5))"
      ],
      "execution_count": null,
      "outputs": [
        {
          "output_type": "execute_result",
          "data": {
            "text/plain": [
              "[1, -1, 1, -1, 1]"
            ]
          },
          "metadata": {
            "tags": []
          },
          "execution_count": 34
        }
      ]
    },
    {
      "cell_type": "code",
      "metadata": {
        "id": "ztSRwxUxrBEd",
        "colab_type": "code",
        "colab": {}
      },
      "source": [
        "# A second order recurrence relation is defined as follows s(n) = p * s(n-1) + q * s(n-2) + r.\n",
        "\n",
        "def second_order(p, q, r,initial_values):\n",
        "  intermediate = it.accumulate(\n",
        "      it.repeat(initial_values),\n",
        "      lambda s,_ : (s[1], p*s[1] + p*s[0] + r)\n",
        "  )\n",
        "  return map(lambda x:x[0], intermediate)"
      ],
      "execution_count": null,
      "outputs": []
    },
    {
      "cell_type": "code",
      "metadata": {
        "id": "xG8EH_BUr4oM",
        "colab_type": "code",
        "colab": {
          "base_uri": "https://localhost:8080/",
          "height": 34
        },
        "outputId": "f0161a5a-3308-4b81-a66d-8ba259fa4c1e"
      },
      "source": [
        "fibs = second_order(p=1, q=1, r=0, initial_values=(0, 1))\n",
        "list(next(fibs) for _ in range(8))"
      ],
      "execution_count": null,
      "outputs": [
        {
          "output_type": "execute_result",
          "data": {
            "text/plain": [
              "[0, 1, 1, 2, 3, 5, 8, 13]"
            ]
          },
          "metadata": {
            "tags": []
          },
          "execution_count": 6
        }
      ]
    },
    {
      "cell_type": "code",
      "metadata": {
        "id": "ZmLIaKWqsMeQ",
        "colab_type": "code",
        "colab": {
          "base_uri": "https://localhost:8080/",
          "height": 34
        },
        "outputId": "17a16c68-4eba-4550-a305-8ab092fa7acf"
      },
      "source": [
        "# Pell numbers\n",
        "pell = second_order(p=2, q=1, r=0, initial_values=(0, 1))\n",
        "list(next(pell) for _ in range(6))"
      ],
      "execution_count": null,
      "outputs": [
        {
          "output_type": "execute_result",
          "data": {
            "text/plain": [
              "[0, 1, 2, 6, 16, 44]"
            ]
          },
          "metadata": {
            "tags": []
          },
          "execution_count": 8
        }
      ]
    },
    {
      "cell_type": "code",
      "metadata": {
        "id": "GYZEoC8_sXZ3",
        "colab_type": "code",
        "colab": {
          "base_uri": "https://localhost:8080/",
          "height": 34
        },
        "outputId": "9b164a4d-db32-4c8d-8781-6a9dc536296a"
      },
      "source": [
        "lucas = second_order(p=1, q=1, r=0, initial_values=(2, 1))\n",
        "list(next(lucas) for _ in range(6))"
      ],
      "execution_count": null,
      "outputs": [
        {
          "output_type": "execute_result",
          "data": {
            "text/plain": [
              "[2, 1, 3, 4, 7, 11]"
            ]
          },
          "metadata": {
            "tags": []
          },
          "execution_count": 9
        }
      ]
    },
    {
      "cell_type": "code",
      "metadata": {
        "id": "H-Y0XL6mwKS4",
        "colab_type": "code",
        "colab": {}
      },
      "source": [
        "# Dealing a deck of cards"
      ],
      "execution_count": null,
      "outputs": []
    },
    {
      "cell_type": "code",
      "metadata": {
        "id": "bpW17YHQwKaI",
        "colab_type": "code",
        "colab": {}
      },
      "source": [
        "ranks = ['A', 'K', 'Q', 'J', '10', '9', '8', '7', '6', '5', '4', '3', '2']\n",
        "suits = ['H', 'D', 'C', 'S']"
      ],
      "execution_count": 1,
      "outputs": []
    },
    {
      "cell_type": "code",
      "metadata": {
        "id": "iG1G2Gv7wbf9",
        "colab_type": "code",
        "colab": {}
      },
      "source": [
        "cards = ((rank,suit) for rank in ranks for suit in suits)\n",
        "# While this is obviously usable we could do it in a way is a lot more compactusing this"
      ],
      "execution_count": 2,
      "outputs": []
    },
    {
      "cell_type": "code",
      "metadata": {
        "id": "Y0k2A5y-wKGU",
        "colab_type": "code",
        "colab": {}
      },
      "source": [
        "cards = it.product(ranks,suits)"
      ],
      "execution_count": 5,
      "outputs": []
    },
    {
      "cell_type": "code",
      "metadata": {
        "id": "QNb9IEphxqT8",
        "colab_type": "code",
        "colab": {
          "base_uri": "https://localhost:8080/",
          "height": 34
        },
        "outputId": "e9c97acf-2f61-4ea2-f478-117d99e1dbd0"
      },
      "source": [
        "# Now lets shuffle the deck because we gotta do that\n",
        "\n",
        "def shuffler(cards):\n",
        "  deck = list(cards)\n",
        "  random.shuffle(deck)\n",
        "  return iter(tuple(deck))\n",
        "\n",
        "cards = shuffler(cards)\n",
        "cards"
      ],
      "execution_count": 10,
      "outputs": [
        {
          "output_type": "execute_result",
          "data": {
            "text/plain": [
              "<tuple_iterator at 0x7f7b99b633c8>"
            ]
          },
          "metadata": {
            "tags": []
          },
          "execution_count": 10
        }
      ]
    },
    {
      "cell_type": "code",
      "metadata": {
        "id": "A02RjG4wyXRQ",
        "colab_type": "code",
        "colab": {}
      },
      "source": [
        "# Ofcourse we need a cut function else how would the dealer cheat?\n",
        "\n",
        "def cut(cards, n):\n",
        "  if n<0:\n",
        "    return ValueError(\"Do you have any idea of what you are doing?\")\n",
        "\n",
        "  deck = list(cards)\n",
        "  return iter(deck[n:] + deck[:n])\n",
        "\n",
        "cards = cut(cards, 26) "
      ],
      "execution_count": 12,
      "outputs": []
    }
  ]
}
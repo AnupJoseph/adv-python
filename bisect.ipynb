{
  "nbformat": 4,
  "nbformat_minor": 0,
  "metadata": {
    "colab": {
      "name": "bisect.ipynb",
      "provenance": [],
      "authorship_tag": "ABX9TyMt4Emeu3WvhK9XejLdiOlE",
      "include_colab_link": true
    },
    "kernelspec": {
      "name": "python3",
      "display_name": "Python 3"
    }
  },
  "cells": [
    {
      "cell_type": "markdown",
      "metadata": {
        "id": "view-in-github",
        "colab_type": "text"
      },
      "source": [
        "<a href=\"https://colab.research.google.com/github/AnupJoseph/adv-python/blob/master/bisect.ipynb\" target=\"_parent\"><img src=\"https://colab.research.google.com/assets/colab-badge.svg\" alt=\"Open In Colab\"/></a>"
      ]
    },
    {
      "cell_type": "code",
      "metadata": {
        "id": "YAc4YGrE0rGV",
        "colab_type": "code",
        "colab": {
          "base_uri": "https://localhost:8080/",
          "height": 51
        },
        "outputId": "bd8b0f03-82d4-4feb-e497-82de3cfc4c27"
      },
      "source": [
        "import csv\n",
        "import gzip\n",
        "import shutil\n",
        "import tempfile\n",
        "import urllib.request\n",
        "\n",
        "\n",
        "def main():\n",
        "    \"\"\"Script entry point.\"\"\"\n",
        "\n",
        "    print(\"Fetching data from IMDb...\")\n",
        "\n",
        "    with open(\"names.txt\", \"w\", encoding=\"utf-8\") as destination:\n",
        "        destination.writelines(names())\n",
        "\n",
        "    with open(\"names.txt\", encoding=\"utf-8\") as source, open(\n",
        "        \"sorted_names.txt\", \"w\", encoding=\"utf-8\"\n",
        "    ) as destination:\n",
        "        destination.writelines(sorted(source.readlines()))\n",
        "\n",
        "    print('Created \"names.txt\" and \"sorted_names.txt\"')\n",
        "\n",
        "\n",
        "def names():\n",
        "    \"\"\"Return a generator of names with a trailing newline.\"\"\"\n",
        "    url = \"https://datasets.imdbws.com/name.basics.tsv.gz\"\n",
        "    with urllib.request.urlopen(url) as response:\n",
        "        with tempfile.NamedTemporaryFile(mode=\"w+b\") as archive:\n",
        "            shutil.copyfileobj(response, archive)\n",
        "            archive.seek(0)\n",
        "            with gzip.open(archive, mode=\"rt\", encoding=\"utf-8\") as tsv_file:\n",
        "                tsv = csv.reader(tsv_file, delimiter=\"\\t\")\n",
        "                next(tsv)  # Skip the header\n",
        "                for record in tsv:\n",
        "                    full_name = record[1]\n",
        "                    yield f\"{full_name}\\n\"\n",
        "\n",
        "\n",
        "if __name__ == \"__main__\":\n",
        "    try:\n",
        "        main()\n",
        "    except KeyboardInterrupt:\n",
        "        print(\"Aborted\")"
      ],
      "execution_count": null,
      "outputs": [
        {
          "output_type": "stream",
          "text": [
            "Fetching data from IMDb...\n",
            "Created \"names.txt\" and \"sorted_names.txt\"\n"
          ],
          "name": "stdout"
        }
      ]
    },
    {
      "cell_type": "code",
      "metadata": {
        "id": "s7AB3zGU09KJ",
        "colab_type": "code",
        "colab": {}
      },
      "source": [
        "def load_names(path):\n",
        "  with open(path) as text_file:\n",
        "    return text_file.read().splitlines()\n",
        "\n",
        "names = load_names('names.txt')\n",
        "sorted_names = load_names('sorted_names.txt')"
      ],
      "execution_count": null,
      "outputs": []
    },
    {
      "cell_type": "code",
      "metadata": {
        "id": "mTi7QXQ03UdS",
        "colab_type": "code",
        "colab": {}
      },
      "source": [
        "import bisect"
      ],
      "execution_count": null,
      "outputs": []
    },
    {
      "cell_type": "code",
      "metadata": {
        "id": "3JoGWlZS3NVV",
        "colab_type": "code",
        "colab": {
          "base_uri": "https://localhost:8080/",
          "height": 34
        },
        "outputId": "0401890c-a313-4d2d-a1af-2541332c50fe"
      },
      "source": [
        "# Let's do some basic testing using simple lists first\n",
        "sorted_list = ['apple', 'banana', 'orange', 'plum']\n",
        "bisect.bisect_left(sorted_list,'banana')"
      ],
      "execution_count": null,
      "outputs": [
        {
          "output_type": "execute_result",
          "data": {
            "text/plain": [
              "1"
            ]
          },
          "metadata": {
            "tags": []
          },
          "execution_count": 7
        }
      ]
    },
    {
      "cell_type": "code",
      "metadata": {
        "id": "M8ObYLBS3mRD",
        "colab_type": "code",
        "colab": {
          "base_uri": "https://localhost:8080/",
          "height": 34
        },
        "outputId": "8a9a778b-31f8-4975-8f44-940ebfb05f5e"
      },
      "source": [
        "# If there is no element inside the list the expected position is found\n",
        "bisect.bisect_left(sorted_list,'grapes')"
      ],
      "execution_count": null,
      "outputs": [
        {
          "output_type": "execute_result",
          "data": {
            "text/plain": [
              "2"
            ]
          },
          "metadata": {
            "tags": []
          },
          "execution_count": 8
        }
      ]
    },
    {
      "cell_type": "code",
      "metadata": {
        "id": "epR3UkE74GZu",
        "colab_type": "code",
        "colab": {
          "base_uri": "https://localhost:8080/",
          "height": 34
        },
        "outputId": "e7f0e3a2-f393-4b63-ae6e-3ac2b9bf5549"
      },
      "source": [
        "# This function can be leveraged to create a global function which will return value if found or return None implicitly\n",
        "def find_index(elements,value):\n",
        "  index = bisect.bisect_left(elements,value)\n",
        "  if index<len(elements) and elements[index] == value:\n",
        "    return index\n",
        "\n",
        "find_index(sorted_list,'banana')"
      ],
      "execution_count": null,
      "outputs": [
        {
          "output_type": "execute_result",
          "data": {
            "text/plain": [
              "1"
            ]
          },
          "metadata": {
            "tags": []
          },
          "execution_count": 10
        }
      ]
    },
    {
      "cell_type": "code",
      "metadata": {
        "id": "17CRSHTs4VOQ",
        "colab_type": "code",
        "colab": {
          "base_uri": "https://localhost:8080/",
          "height": 34
        },
        "outputId": "1aa5b109-0fc3-4ac0-b11f-63ec5abda3b1"
      },
      "source": [
        "# Some of the most important usecases of binarysearch is element insertion \n",
        "bisect.insort_left(sorted_list,'apricot')\n",
        "sorted_list"
      ],
      "execution_count": null,
      "outputs": [
        {
          "output_type": "execute_result",
          "data": {
            "text/plain": [
              "['apple', 'apricot', 'apricot', 'banana', 'orange', 'plum']"
            ]
          },
          "metadata": {
            "tags": []
          },
          "execution_count": 12
        }
      ]
    }
  ]
}
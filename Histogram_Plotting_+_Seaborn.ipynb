{
  "nbformat": 4,
  "nbformat_minor": 0,
  "metadata": {
    "colab": {
      "name": "Histogram Plotting + Seaborn.ipynb",
      "provenance": [],
      "collapsed_sections": [],
      "authorship_tag": "ABX9TyOzBp1v6eX6ax38B/K01YRZ",
      "include_colab_link": true
    },
    "kernelspec": {
      "name": "python3",
      "display_name": "Python 3"
    }
  },
  "cells": [
    {
      "cell_type": "markdown",
      "metadata": {
        "id": "view-in-github",
        "colab_type": "text"
      },
      "source": [
        "<a href=\"https://colab.research.google.com/github/AnupJoseph/adv-python/blob/master/Histogram_Plotting_%2B_Seaborn.ipynb\" target=\"_parent\"><img src=\"https://colab.research.google.com/assets/colab-badge.svg\" alt=\"Open In Colab\"/></a>"
      ]
    },
    {
      "cell_type": "code",
      "metadata": {
        "id": "t3u42U1KlA7S",
        "colab_type": "code",
        "colab": {}
      },
      "source": [
        "from collections import Counter\n",
        "import random\n",
        "import numpy as np\n",
        "import matplotlib.pyplot as plt\n",
        "import pandas as pd"
      ],
      "execution_count": 24,
      "outputs": []
    },
    {
      "cell_type": "code",
      "metadata": {
        "id": "Fij_N9p4Ilax",
        "colab_type": "code",
        "colab": {}
      },
      "source": [
        "# For odd reasons I simply don't understand this doesn't work if run inside the import cell\n",
        "plt.rcParams[\"figure.figsize\"] = (15,10)"
      ],
      "execution_count": 21,
      "outputs": []
    },
    {
      "cell_type": "code",
      "metadata": {
        "id": "iQIeurYroORu",
        "colab_type": "code",
        "colab": {
          "base_uri": "https://localhost:8080/",
          "height": 34
        },
        "outputId": "1db8b718-f41c-4370-9355-842e9a6530ba"
      },
      "source": [
        "values = (0, 1, 1, 1, 2, 3, 7, 7, 23)\n",
        "value_count = Counter(values)\n",
        "value_count"
      ],
      "execution_count": 2,
      "outputs": [
        {
          "output_type": "execute_result",
          "data": {
            "text/plain": [
              "Counter({0: 1, 1: 3, 2: 1, 3: 1, 7: 2, 23: 1})"
            ]
          },
          "metadata": {
            "tags": []
          },
          "execution_count": 2
        }
      ]
    },
    {
      "cell_type": "code",
      "metadata": {
        "id": "LtWCL45LouC3",
        "colab_type": "code",
        "colab": {}
      },
      "source": [
        "def ascii_histogram(seq) -> None:\n",
        "  \"\"\"\n",
        "    A horizontal frequency-table/histogram plot.\n",
        "  \"\"\"\n",
        "  counted = Counter(seq)\n",
        "  for k in sorted(counted):\n",
        "    print(\"{0:5d} {1}\".format(k,'+'*counted[k]))"
      ],
      "execution_count": 3,
      "outputs": []
    },
    {
      "cell_type": "code",
      "metadata": {
        "id": "PFrLgu4MuBH7",
        "colab_type": "code",
        "colab": {
          "base_uri": "https://localhost:8080/",
          "height": 136
        },
        "outputId": "22b33c59-1a6c-4935-820f-afef63aeb864"
      },
      "source": [
        "random.seed(1)\n",
        "\n",
        "vals = [1, 3, 4, 6, 8, 9, 10]\n",
        "\n",
        "# Each value will appear between 5 and 15 times\n",
        "freq = (random.randint(5,15) for _ in vals)\n",
        "\n",
        "# Creating\n",
        "data = []\n",
        "for f,v in zip(freq,vals):\n",
        "  data.extend([v]*f)\n",
        "\n",
        "ascii_histogram(data)"
      ],
      "execution_count": 4,
      "outputs": [
        {
          "output_type": "stream",
          "text": [
            "    1 +++++++\n",
            "    3 ++++++++++++++\n",
            "    4 ++++++\n",
            "    6 +++++++++\n",
            "    8 ++++++\n",
            "    9 ++++++++++++\n",
            "   10 ++++++++++++\n"
          ],
          "name": "stdout"
        }
      ]
    },
    {
      "cell_type": "code",
      "metadata": {
        "id": "etQDMZi-vS3i",
        "colab_type": "code",
        "colab": {}
      },
      "source": [
        "# Alright till now we have been cheating a bit and make it sound as if the about function is actually a histogram\n",
        "# It isn't though and hence now we switch our focus to that\n",
        "\n",
        "# More technically, it can be used to approximate the probability density function (PDF) of the underlying variable.If that sound awkward then thats fine.\n",
        "# Moving on from the “frequency table” above, a true histogram first “bins” the range of values and then counts the number of values that fall into each bin"
      ],
      "execution_count": 5,
      "outputs": []
    },
    {
      "cell_type": "code",
      "metadata": {
        "id": "ZFavdcx2wQJV",
        "colab_type": "code",
        "colab": {
          "base_uri": "https://localhost:8080/",
          "height": 34
        },
        "outputId": "aa7f566e-ab47-4fc1-fe73-0524c3a1a7c5"
      },
      "source": [
        "np.random.seed(444)\n",
        "np.set_printoptions(precision=3)\n",
        "\n",
        "d = np.random.laplace(loc=15,scale=3,size=500)\n",
        "d[:5]"
      ],
      "execution_count": 6,
      "outputs": [
        {
          "output_type": "execute_result",
          "data": {
            "text/plain": [
              "array([18.406, 18.087, 16.004, 16.221,  7.358])"
            ]
          },
          "metadata": {
            "tags": []
          },
          "execution_count": 6
        }
      ]
    },
    {
      "cell_type": "code",
      "metadata": {
        "id": "Z017Y-dfwnNx",
        "colab_type": "code",
        "colab": {
          "base_uri": "https://localhost:8080/",
          "height": 68
        },
        "outputId": "2141771c-8f2f-4cd4-ac27-d5cc78c38ed3"
      },
      "source": [
        "# In the above case the laplacian distribution is a continous function and tracking down its last decimal place is kind of useless\n",
        "# Instead, you can bin or “bucket” the data and count the observations that fall into each bin\n",
        "# using the standard numpy histogram function\n",
        "\n",
        "hist,bin_edges = np.histogram(d)\n",
        "\n",
        "print(hist,bin_edges,sep='\\n')"
      ],
      "execution_count": 7,
      "outputs": [
        {
          "output_type": "stream",
          "text": [
            "[ 13  23  91 261  80  21   7   2   1   1]\n",
            "[ 2.11   5.874  9.638 13.402 17.166 20.93  24.694 28.458 32.222 35.986\n",
            " 39.749]\n"
          ],
          "name": "stdout"
        }
      ]
    },
    {
      "cell_type": "code",
      "metadata": {
        "id": "RgMtM-xHyT_P",
        "colab_type": "code",
        "colab": {
          "base_uri": "https://localhost:8080/",
          "height": 51
        },
        "outputId": "ca95d125-2aab-4a78-dac7-c470f5dbe7b9"
      },
      "source": [
        "print(hist.size,bin_edges.size,sep='\\n')"
      ],
      "execution_count": 8,
      "outputs": [
        {
          "output_type": "stream",
          "text": [
            "10\n",
            "11\n"
          ],
          "name": "stdout"
        }
      ]
    },
    {
      "cell_type": "code",
      "metadata": {
        "id": "NnicEhhh2Q_5",
        "colab_type": "code",
        "colab": {
          "base_uri": "https://localhost:8080/",
          "height": 34
        },
        "outputId": "9501932b-120e-45f6-d411-25292c168a2d"
      },
      "source": [
        "first_edge,last_edge = min(values),max(values)\n",
        "\n",
        "n_equal_bins = 10\n",
        "bin_edges = np.linspace(start = first_edge,stop=last_edge,num=n_equal_bins+1,endpoint=True)\n",
        "\n",
        "bin_edges"
      ],
      "execution_count": 10,
      "outputs": [
        {
          "output_type": "execute_result",
          "data": {
            "text/plain": [
              "array([ 0. ,  2.3,  4.6,  6.9,  9.2, 11.5, 13.8, 16.1, 18.4, 20.7, 23. ])"
            ]
          },
          "metadata": {
            "tags": []
          },
          "execution_count": 10
        }
      ]
    },
    {
      "cell_type": "code",
      "metadata": {
        "id": "FqWWPw6rDa1t",
        "colab_type": "code",
        "colab": {
          "base_uri": "https://localhost:8080/",
          "height": 34
        },
        "outputId": "f33592bd-0ae1-4df6-ee15-cf112775b00c"
      },
      "source": [
        "# Way to reproduce collections.Counter\n",
        "\n",
        "bcounts = np.bincount(values)\n",
        "hist,_ = np.histogram(values, range=(0,max(values)),bins=max(values)+1)\n",
        "\n",
        "# Reproducing collections.Counter\n",
        "dict(zip(np.unique(values), bcounts[bcounts.nonzero()]))"
      ],
      "execution_count": 11,
      "outputs": [
        {
          "output_type": "execute_result",
          "data": {
            "text/plain": [
              "{0: 1, 1: 3, 2: 1, 3: 1, 7: 2, 23: 1}"
            ]
          },
          "metadata": {
            "tags": []
          },
          "execution_count": 11
        }
      ]
    },
    {
      "cell_type": "code",
      "metadata": {
        "id": "ehgSbuYlE1yn",
        "colab_type": "code",
        "colab": {
          "base_uri": "https://localhost:8080/",
          "height": 638
        },
        "outputId": "478a2b25-a47d-43e3-961d-2a3e65fb1f36"
      },
      "source": [
        "# plt.figure(figsize=(15,10))\n",
        "n, bins, patches = plt.hist(x=d, bins='auto', color='#0504aa', alpha=0.7, rwidth=8.85)\n",
        "plt.grid(axis='y', alpha=0.75)\n",
        "plt.xlabel('Value')\n",
        "plt.ylabel('Frequency')\n",
        "plt.title(\"Cool new histogram\")\n",
        "plt.text(23, 45, r'$\\mu=15, b=3$')\n",
        "maxfreq = n.max()\n",
        "plt.ylim(ymax=np.ceil(maxfreq / 10) * 10 if maxfreq % 10 else maxfreq + 10)"
      ],
      "execution_count": 22,
      "outputs": [
        {
          "output_type": "execute_result",
          "data": {
            "text/plain": [
              "(0.0, 80.0)"
            ]
          },
          "metadata": {
            "tags": []
          },
          "execution_count": 22
        },
        {
          "output_type": "display_data",
          "data": {
            "image/png": "[encoded data removed]",
            "text/plain": [
              "<Figure size 1080x720 with 1 Axes>"
            ]
          },
          "metadata": {
            "tags": [],
            "needs_background": "light"
          }
        }
      ]
    },
    {
      "cell_type": "code",
      "metadata": {
        "id": "69hlktoSE158",
        "colab_type": "code",
        "colab": {
          "base_uri": "https://localhost:8080/",
          "height": 621
        },
        "outputId": "f17f25be-3dc2-4130-9288-7e143ca919ed"
      },
      "source": [
        "# Plotting made for commute times of customers using pandas API\n",
        "size,scale = 1000,10\n",
        "commutes = pd.Series(np.random.gamma(scale,size=size)**1.5)\n",
        "\n",
        "commutes.plot.hist(grid=True,bins=20,rwidth=0.9,color='#607c8e')\n",
        "plt.title('Commute Times for 1,000 Commuters')\n",
        "plt.xlabel('Counts')\n",
        "plt.ylabel('Commute Time')\n",
        "plt.grid(axis='y', alpha=0.75)"
      ],
      "execution_count": 26,
      "outputs": [
        {
          "output_type": "display_data",
          "data": {
            "image/png": "[encoded data removed]",
            "text/plain": [
              "<Figure size 1080x720 with 1 Axes>"
            ]
          },
          "metadata": {
            "tags": [],
            "needs_background": "light"
          }
        }
      ]
    },
    {
      "cell_type": "code",
      "metadata": {
        "id": "Ie_5pvukE2gN",
        "colab_type": "code",
        "colab": {
          "base_uri": "https://localhost:8080/",
          "height": 173
        },
        "outputId": "8641e27f-9c51-4a26-97f1-205c54be15d6"
      },
      "source": [
        "# Using KDE(Kernel Density Estimate)\n",
        "\n",
        "means = 10,20\n",
        "std_devs = 4,2\n",
        "dist = pd.DataFrame(np.random.normal(loc=means, scale=std_devs, size=(1000, 2)),columns=['a','b'])\n",
        "dist.agg(['min', 'max', 'mean', 'std'])"
      ],
      "execution_count": 27,
      "outputs": [
        {
          "output_type": "execute_result",
          "data": {
            "text/html": [
              "<div>\n",
              "<style scoped>\n",
              "    .dataframe tbody tr th:only-of-type {\n",
              "        vertical-align: middle;\n",
              "    }\n",
              "\n",
              "    .dataframe tbody tr th {\n",
              "        vertical-align: top;\n",
              "    }\n",
              "\n",
              "    .dataframe thead th {\n",
              "        text-align: right;\n",
              "    }\n",
              "</style>\n",
              "<table border=\"1\" class=\"dataframe\">\n",
              "  <thead>\n",
              "    <tr style=\"text-align: right;\">\n",
              "      <th></th>\n",
              "      <th>a</th>\n",
              "      <th>b</th>\n",
              "    </tr>\n",
              "  </thead>\n",
              "  <tbody>\n",
              "    <tr>\n",
              "      <th>min</th>\n",
              "      <td>-3.051803</td>\n",
              "      <td>13.267655</td>\n",
              "    </tr>\n",
              "    <tr>\n",
              "      <th>max</th>\n",
              "      <td>20.233983</td>\n",
              "      <td>26.440998</td>\n",
              "    </tr>\n",
              "    <tr>\n",
              "      <th>mean</th>\n",
              "      <td>9.896360</td>\n",
              "      <td>19.936057</td>\n",
              "    </tr>\n",
              "    <tr>\n",
              "      <th>std</th>\n",
              "      <td>3.829561</td>\n",
              "      <td>2.042865</td>\n",
              "    </tr>\n",
              "  </tbody>\n",
              "</table>\n",
              "</div>"
            ],
            "text/plain": [
              "              a          b\n",
              "min   -3.051803  13.267655\n",
              "max   20.233983  26.440998\n",
              "mean   9.896360  19.936057\n",
              "std    3.829561   2.042865"
            ]
          },
          "metadata": {
            "tags": []
          },
          "execution_count": 27
        }
      ]
    },
    {
      "cell_type": "code",
      "metadata": {
        "id": "n5nbTrqeE2uJ",
        "colab_type": "code",
        "colab": {
          "base_uri": "https://localhost:8080/",
          "height": 607
        },
        "outputId": "6ffdc746-ff49-484a-8936-908042d9a1e5"
      },
      "source": [
        "fig, ax = plt.subplots()\n",
        "dist.plot.kde(ax=ax,legend = False, title = 'Histogram: A vs B')\n",
        "dist.plot.hist(density=True, ax=ax)\n",
        "ax.set_ylabel('Probability')\n",
        "ax.grid(axis='y')\n",
        "ax.set_facecolor('#d8dcd6')"
      ],
      "execution_count": 28,
      "outputs": [
        {
          "output_type": "display_data",
          "data": {
            "image/png": "[encoded data removed]",
            "text/plain": [
              "<Figure size 1080x720 with 1 Axes>"
            ]
          },
          "metadata": {
            "tags": [],
            "needs_background": "light"
          }
        }
      ]
    },
    {
      "cell_type": "code",
      "metadata": {
        "id": "4e8x5pYSE24o",
        "colab_type": "code",
        "colab": {}
      },
      "source": [
        ""
      ],
      "execution_count": null,
      "outputs": []
    },
    {
      "cell_type": "code",
      "metadata": {
        "id": "Uajp1nsnE2nd",
        "colab_type": "code",
        "colab": {}
      },
      "source": [
        ""
      ],
      "execution_count": null,
      "outputs": []
    },
    {
      "cell_type": "code",
      "metadata": {
        "id": "DzzUwWkHE2Ru",
        "colab_type": "code",
        "colab": {}
      },
      "source": [
        ""
      ],
      "execution_count": null,
      "outputs": []
    },
    {
      "cell_type": "code",
      "metadata": {
        "id": "720eGDEmE12Y",
        "colab_type": "code",
        "colab": {}
      },
      "source": [
        ""
      ],
      "execution_count": null,
      "outputs": []
    },
    {
      "cell_type": "code",
      "metadata": {
        "id": "0h5i5-b_E1VP",
        "colab_type": "code",
        "colab": {}
      },
      "source": [
        ""
      ],
      "execution_count": null,
      "outputs": []
    },
    {
      "cell_type": "code",
      "metadata": {
        "id": "uqL51fbkE1Mm",
        "colab_type": "code",
        "colab": {}
      },
      "source": [
        ""
      ],
      "execution_count": null,
      "outputs": []
    }
  ]
}
{
  "nbformat": 4,
  "nbformat_minor": 0,
  "metadata": {
    "colab": {
      "name": "Histogram Plotting + Seaborn.ipynb",
      "provenance": [],
      "authorship_tag": "ABX9TyO8YrNjtkTDHieIa0+8XNPX",
      "include_colab_link": true
    },
    "kernelspec": {
      "name": "python3",
      "display_name": "Python 3"
    }
  },
  "cells": [
    {
      "cell_type": "markdown",
      "metadata": {
        "id": "view-in-github",
        "colab_type": "text"
      },
      "source": [
        "<a href=\"https://colab.research.google.com/github/AnupJoseph/adv-python/blob/master/Histogram_Plotting_%2B_Seaborn.ipynb\" target=\"_parent\"><img src=\"https://colab.research.google.com/assets/colab-badge.svg\" alt=\"Open In Colab\"/></a>"
      ]
    },
    {
      "cell_type": "code",
      "metadata": {
        "id": "t3u42U1KlA7S",
        "colab_type": "code",
        "colab": {}
      },
      "source": [
        "from collections import Counter\n",
        "import random\n",
        "import numpy as np"
      ],
      "execution_count": 8,
      "outputs": []
    },
    {
      "cell_type": "code",
      "metadata": {
        "id": "iQIeurYroORu",
        "colab_type": "code",
        "colab": {
          "base_uri": "https://localhost:8080/",
          "height": 34
        },
        "outputId": "91e20699-180b-4c9a-8ebf-d4c265b4b36a"
      },
      "source": [
        "values = (0, 1, 1, 1, 2, 3, 7, 7, 23)\n",
        "value_count = Counter(values)\n",
        "value_count"
      ],
      "execution_count": 3,
      "outputs": [
        {
          "output_type": "execute_result",
          "data": {
            "text/plain": [
              "Counter({0: 1, 1: 3, 2: 1, 3: 1, 7: 2, 23: 1})"
            ]
          },
          "metadata": {
            "tags": []
          },
          "execution_count": 3
        }
      ]
    },
    {
      "cell_type": "code",
      "metadata": {
        "id": "LtWCL45LouC3",
        "colab_type": "code",
        "colab": {}
      },
      "source": [
        "def ascii_histogram(seq) -> None:\n",
        "  \"\"\"\n",
        "    A horizontal frequency-table/histogram plot.\n",
        "  \"\"\"\n",
        "  counted = Counter(seq)\n",
        "  for k in sorted(counted):\n",
        "    print(\"{0:5d} {1}\".format(k,'+'*counted[k]))"
      ],
      "execution_count": 6,
      "outputs": []
    },
    {
      "cell_type": "code",
      "metadata": {
        "id": "PFrLgu4MuBH7",
        "colab_type": "code",
        "colab": {
          "base_uri": "https://localhost:8080/",
          "height": 136
        },
        "outputId": "eab3e46f-8b5d-44ac-f41d-71102fe9403b"
      },
      "source": [
        "random.seed(1)\n",
        "\n",
        "vals = [1, 3, 4, 6, 8, 9, 10]\n",
        "\n",
        "# Each value will appear between 5 and 15 times\n",
        "freq = (random.randint(5,15) for _ in vals)\n",
        "\n",
        "# Creating\n",
        "data = []\n",
        "for f,v in zip(freq,vals):\n",
        "  data.extend([v]*f)\n",
        "\n",
        "ascii_histogram(data)"
      ],
      "execution_count": 7,
      "outputs": [
        {
          "output_type": "stream",
          "text": [
            "    1 +++++++\n",
            "    3 ++++++++++++++\n",
            "    4 ++++++\n",
            "    6 +++++++++\n",
            "    8 ++++++\n",
            "    9 ++++++++++++\n",
            "   10 ++++++++++++\n"
          ],
          "name": "stdout"
        }
      ]
    },
    {
      "cell_type": "code",
      "metadata": {
        "id": "etQDMZi-vS3i",
        "colab_type": "code",
        "colab": {}
      },
      "source": [
        "# Alright till now we have been cheating a bit and make it sound as if the about function is actually a histogram\n",
        "# It isn't though and hence now we switch our focus to that\n",
        "\n",
        "# More technically, it can be used to approximate the probability density function (PDF) of the underlying variable.If that sound awkward then thats fine.\n",
        "# Moving on from the “frequency table” above, a true histogram first “bins” the range of values and then counts the number of values that fall into each bin"
      ],
      "execution_count": null,
      "outputs": []
    },
    {
      "cell_type": "code",
      "metadata": {
        "id": "ZFavdcx2wQJV",
        "colab_type": "code",
        "colab": {
          "base_uri": "https://localhost:8080/",
          "height": 34
        },
        "outputId": "a05cea40-0ed9-4f4a-c054-379f02352c7f"
      },
      "source": [
        "np.random.seed(444)\n",
        "np.set_printoptions(precision=3)\n",
        "\n",
        "d = np.random.laplace(loc=15,scale=3,size=500)\n",
        "d[:5]"
      ],
      "execution_count": 9,
      "outputs": [
        {
          "output_type": "execute_result",
          "data": {
            "text/plain": [
              "array([18.406, 18.087, 16.004, 16.221,  7.358])"
            ]
          },
          "metadata": {
            "tags": []
          },
          "execution_count": 9
        }
      ]
    },
    {
      "cell_type": "code",
      "metadata": {
        "id": "Z017Y-dfwnNx",
        "colab_type": "code",
        "colab": {
          "base_uri": "https://localhost:8080/",
          "height": 68
        },
        "outputId": "072bf59b-d850-4fda-cacd-9f4fe5c1c1e3"
      },
      "source": [
        "# In the above case the laplacian distribution is a continous function and tracking down its last decimal place is kind of useless\n",
        "# Instead, you can bin or “bucket” the data and count the observations that fall into each bin\n",
        "# using the standard numpy histogram function\n",
        "\n",
        "hist,bin_edges = np.histogram(d)\n",
        "\n",
        "print(hist,bin_edges,sep='\\n')"
      ],
      "execution_count": 10,
      "outputs": [
        {
          "output_type": "stream",
          "text": [
            "[ 13  23  91 261  80  21   7   2   1   1]\n",
            "[ 2.11   5.874  9.638 13.402 17.166 20.93  24.694 28.458 32.222 35.986\n",
            " 39.749]\n"
          ],
          "name": "stdout"
        }
      ]
    },
    {
      "cell_type": "code",
      "metadata": {
        "id": "RgMtM-xHyT_P",
        "colab_type": "code",
        "colab": {
          "base_uri": "https://localhost:8080/",
          "height": 51
        },
        "outputId": "e4703696-d46a-4f6b-d766-653a20a5c16b"
      },
      "source": [
        "print(hist.size,bin_edges.size,sep='\\n')"
      ],
      "execution_count": 11,
      "outputs": [
        {
          "output_type": "stream",
          "text": [
            "10\n",
            "11\n"
          ],
          "name": "stdout"
        }
      ]
    },
    {
      "cell_type": "code",
      "metadata": {
        "id": "NnicEhhh2Q_5",
        "colab_type": "code",
        "colab": {
          "base_uri": "https://localhost:8080/",
          "height": 34
        },
        "outputId": "4a553c6a-c4ae-4f84-fc82-4762b6842ae1"
      },
      "source": [
        "first_edge,last_edge = min(values),max(values)\n",
        "\n",
        "n_equal_bins = 10\n",
        "bin_edges = np.linspace(start = first_edge,stop=last_edge,num=n_equal_bins+1,endpoint=True)\n",
        "\n",
        "bin_edges"
      ],
      "execution_count": 16,
      "outputs": [
        {
          "output_type": "execute_result",
          "data": {
            "text/plain": [
              "array([ 0. ,  2.3,  4.6,  6.9,  9.2, 11.5, 13.8, 16.1, 18.4, 20.7, 23. ])"
            ]
          },
          "metadata": {
            "tags": []
          },
          "execution_count": 16
        }
      ]
    }
  ]
}
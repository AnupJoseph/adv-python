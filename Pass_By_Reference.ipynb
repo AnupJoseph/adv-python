{
  "nbformat": 4,
  "nbformat_minor": 0,
  "metadata": {
    "colab": {
      "name": "Pass By Reference.ipynb",
      "provenance": [],
      "authorship_tag": "ABX9TyONc199MirhP/8nCfmC+DJQ",
      "include_colab_link": true
    },
    "kernelspec": {
      "name": "python3",
      "display_name": "Python 3"
    }
  },
  "cells": [
    {
      "cell_type": "markdown",
      "metadata": {
        "id": "view-in-github",
        "colab_type": "text"
      },
      "source": [
        "<a href=\"https://colab.research.google.com/github/AnupJoseph/adv-python/blob/master/Pass_By_Reference.ipynb\" target=\"_parent\"><img src=\"https://colab.research.google.com/assets/colab-badge.svg\" alt=\"Open In Colab\"/></a>"
      ]
    },
    {
      "cell_type": "code",
      "metadata": {
        "id": "K6RyJGDqStLU",
        "colab_type": "code",
        "colab": {}
      },
      "source": [
        "# Before we begin some things should be clear. Pass by reference is not an actual concept in python \\\n",
        "# Python neither has pass-by-value or pass-by-reference.\n",
        "# Instead it has pass-by-assignment which can be leveraged to achieve both of them.(Or some modicum of it. Come on people this is python.)"
      ],
      "execution_count": 1,
      "outputs": []
    },
    {
      "cell_type": "code",
      "metadata": {
        "id": "1RG776IyTcX2",
        "colab_type": "code",
        "colab": {
          "base_uri": "https://localhost:8080/",
          "height": 85
        },
        "outputId": "a7922e7e-a9c3-4a4b-cb51-697e4ecf684c"
      },
      "source": [
        "# Python does not do pass by value as a rather lot of people claim.Lets prove this\n",
        "def main():\n",
        "  n = 9001\n",
        "  print(f\"Initial address of n: {id(n)}\")\n",
        "  increment(n)\n",
        "  print(f\"  Final address of n: {id(n)}\")\n",
        "def increment(x):\n",
        "  print(f\"Initial address of x: {id(x)}\")\n",
        "  x += 1\n",
        "  print(f\"  Final address of x: {id(x)}\")\n",
        "\n",
        "main()\n",
        "\n",
        "# In this module it should be clear that the value of n never changes.\n",
        "# On the other hand the location of variables initially it changes as soon as a reassignment operation is done.\n",
        "# The fact that the initial addresses of n and x are the same when you invoke increment() proves that the x argument is not being passed by value.\n",
        "# Otherwise, n and x would have distinct memory addresses. "
      ],
      "execution_count": 3,
      "outputs": [
        {
          "output_type": "stream",
          "text": [
            "Initial address of n: 139916816810416\n",
            "Initial address of x: 139916816810416\n",
            "  Final address of x: 139916816810128\n",
            "  Final address of n: 139916816810416\n"
          ],
          "name": "stdout"
        }
      ]
    },
    {
      "cell_type": "code",
      "metadata": {
        "id": "tjnnVR5gXRlA",
        "colab_type": "code",
        "colab": {}
      },
      "source": [
        "# Uses of Pass by reference\n",
        "# To be clear you don't need it. However in certain scenarios its nice to have it\n",
        "# a) Avoiding Duplicate values\n",
        "# b) Returning Multiple values - Very important\n",
        "# c) Conditional Returns"
      ],
      "execution_count": null,
      "outputs": []
    },
    {
      "cell_type": "code",
      "metadata": {
        "id": "cPMbWH3cZNjA",
        "colab_type": "code",
        "colab": {
          "base_uri": "https://localhost:8080/",
          "height": 34
        },
        "outputId": "ab44cbb8-de76-422f-a900-5f960a1838a7"
      },
      "source": [
        "# Passing Arguements in Python\n",
        "# Python passes arguments by assignment. That is, when you call a Python function, each function argument becomes a variable to which the passed value is assigned.\n",
        "\n",
        "# Exploring Local Variables\n",
        "# Function arguments in Python are local variables.\n",
        "\n",
        "def show_locals():\n",
        "  my_local = True\n",
        "  print(locals())\n",
        "\n",
        "show_locals()"
      ],
      "execution_count": 4,
      "outputs": [
        {
          "output_type": "stream",
          "text": [
            "{'my_local': True}\n"
          ],
          "name": "stdout"
        }
      ]
    },
    {
      "cell_type": "code",
      "metadata": {
        "id": "w0lV66EJa_T5",
        "colab_type": "code",
        "colab": {
          "base_uri": "https://localhost:8080/",
          "height": 34
        },
        "outputId": "70aaa537-d0ac-4734-d35c-b1befc20c143"
      },
      "source": [
        "# A function arguement becomes a regular local variable in the function's local namespace\n",
        "# To prove it \n",
        "def show_locals(my_arg):\n",
        "  my_local = True\n",
        "  print(locals())\n",
        "\n",
        "show_locals(\"Don Corleone\")"
      ],
      "execution_count": 5,
      "outputs": [
        {
          "output_type": "stream",
          "text": [
            "{'my_local': True, 'my_arg': 'Don Corleone'}\n"
          ],
          "name": "stdout"
        }
      ]
    },
    {
      "cell_type": "code",
      "metadata": {
        "id": "zJOJfLDNbU-8",
        "colab_type": "code",
        "colab": {}
      },
      "source": [
        "# Relpicating pass by reference in Python\n",
        "# Globals can be used to simulate such a trick of course. But its generally considered to be bad technique\n",
        "# These are issues with it\n",
        "# * Free variables, seemingly unrelated to anything\n",
        "# * Functions without explicit arguments for said variables\n",
        "# * Functions that can’t be used generically with other variables or arguments since they rely on a single global variable\n",
        "# * Lack of thread safety when using global variables"
      ],
      "execution_count": null,
      "outputs": []
    },
    {
      "cell_type": "code",
      "metadata": {
        "id": "IVfs5GCVcIOQ",
        "colab_type": "code",
        "colab": {
          "base_uri": "https://localhost:8080/",
          "height": 68
        },
        "outputId": "9cc5ae52-08a5-4686-b67d-52ca919d2a44"
      },
      "source": [
        "# Best practice is to return and reassign\n",
        "# Its more obvious and intuitive\n",
        "\n",
        "# The important thing to remember is that Python does not follow design patterns of other languages entirely.\n",
        "# Functions should practically always be single purpose utilites\n",
        "\n",
        "# For example if yu need to return multiple function, then do just that basically.\n",
        "def greet(name, counter):\n",
        "  # Simply return muliple values\n",
        "  return f\"Hi {name}\",counter+1\n",
        "\n",
        "counter = 0\n",
        "# After return reassign\n",
        "greeting, counter = greet(\"Alice\", 0)\n",
        "print(counter)\n",
        "greeting, counter = greet(\"Tracy\", counter)\n",
        "print(counter)\n",
        "greeting, counter = greet(\"Jorge\", counter)\n",
        "print(counter)"
      ],
      "execution_count": 7,
      "outputs": [
        {
          "output_type": "stream",
          "text": [
            "1\n",
            "2\n",
            "3\n"
          ],
          "name": "stdout"
        }
      ]
    },
    {
      "cell_type": "code",
      "metadata": {
        "id": "sKF4YG-1eQPS",
        "colab_type": "code",
        "colab": {
          "base_uri": "https://localhost:8080/",
          "height": 34
        },
        "outputId": "38e56bb2-6a52-4f12-b253-a68346dd30bd"
      },
      "source": [
        "# Another important practice is using object attributes\n",
        "# This is something programmers coming from other languages will know as well\n",
        "# For the purpose of this example, let's use SimpleNamespace.\n",
        "from types import SimpleNamespace\n",
        "\n",
        "# SimpleNamespace allows us to set arbitrary attributes.\n",
        "# It is an explicit, handy replacement for \"class X: pass\".\n",
        "ns = SimpleNamespace()\n",
        "\n",
        "# Define a function to operate on an object's attribute.\n",
        "def square(instance):\n",
        "    instance.n *= instance.n\n",
        "\n",
        "ns.n = 4\n",
        "square(ns)\n",
        "ns.n"
      ],
      "execution_count": 8,
      "outputs": [
        {
          "output_type": "execute_result",
          "data": {
            "text/plain": [
              "16"
            ]
          },
          "metadata": {
            "tags": []
          },
          "execution_count": 8
        }
      ]
    },
    {
      "cell_type": "code",
      "metadata": {
        "id": "895OJV2rgT-o",
        "colab_type": "code",
        "colab": {
          "base_uri": "https://localhost:8080/",
          "height": 316
        },
        "outputId": "35c23713-7032-491c-98b4-8c2d62573aa9"
      },
      "source": [
        "# If we attempt the same with namedtuple, a datastructure which does not support modification then we get different results\n",
        "from collections import namedtuple\n",
        "NS = namedtuple(\"NS\", \"n\")\n",
        "def square(instance):\n",
        "    instance.n *= instance.n\n",
        "\n",
        "ns = NS(4)\n",
        "ns.n\n",
        "\n",
        "square(ns)"
      ],
      "execution_count": 9,
      "outputs": [
        {
          "output_type": "error",
          "ename": "AttributeError",
          "evalue": "ignored",
          "traceback": [
            "\u001b[0;31m---------------------------------------------------------------------------\u001b[0m",
            "\u001b[0;31mAttributeError\u001b[0m                            Traceback (most recent call last)",
            "\u001b[0;32m<ipython-input-9-eb23175f7814>\u001b[0m in \u001b[0;36m<module>\u001b[0;34m()\u001b[0m\n\u001b[1;32m      8\u001b[0m \u001b[0mns\u001b[0m\u001b[0;34m.\u001b[0m\u001b[0mn\u001b[0m\u001b[0;34m\u001b[0m\u001b[0;34m\u001b[0m\u001b[0m\n\u001b[1;32m      9\u001b[0m \u001b[0;34m\u001b[0m\u001b[0m\n\u001b[0;32m---> 10\u001b[0;31m \u001b[0msquare\u001b[0m\u001b[0;34m(\u001b[0m\u001b[0mns\u001b[0m\u001b[0;34m)\u001b[0m\u001b[0;34m\u001b[0m\u001b[0;34m\u001b[0m\u001b[0m\n\u001b[0m",
            "\u001b[0;32m<ipython-input-9-eb23175f7814>\u001b[0m in \u001b[0;36msquare\u001b[0;34m(instance)\u001b[0m\n\u001b[1;32m      3\u001b[0m \u001b[0mNS\u001b[0m \u001b[0;34m=\u001b[0m \u001b[0mnamedtuple\u001b[0m\u001b[0;34m(\u001b[0m\u001b[0;34m\"NS\"\u001b[0m\u001b[0;34m,\u001b[0m \u001b[0;34m\"n\"\u001b[0m\u001b[0;34m)\u001b[0m\u001b[0;34m\u001b[0m\u001b[0;34m\u001b[0m\u001b[0m\n\u001b[1;32m      4\u001b[0m \u001b[0;32mdef\u001b[0m \u001b[0msquare\u001b[0m\u001b[0;34m(\u001b[0m\u001b[0minstance\u001b[0m\u001b[0;34m)\u001b[0m\u001b[0;34m:\u001b[0m\u001b[0;34m\u001b[0m\u001b[0;34m\u001b[0m\u001b[0m\n\u001b[0;32m----> 5\u001b[0;31m     \u001b[0minstance\u001b[0m\u001b[0;34m.\u001b[0m\u001b[0mn\u001b[0m \u001b[0;34m*=\u001b[0m \u001b[0minstance\u001b[0m\u001b[0;34m.\u001b[0m\u001b[0mn\u001b[0m\u001b[0;34m\u001b[0m\u001b[0;34m\u001b[0m\u001b[0m\n\u001b[0m\u001b[1;32m      6\u001b[0m \u001b[0;34m\u001b[0m\u001b[0m\n\u001b[1;32m      7\u001b[0m \u001b[0mns\u001b[0m \u001b[0;34m=\u001b[0m \u001b[0mNS\u001b[0m\u001b[0;34m(\u001b[0m\u001b[0;36m4\u001b[0m\u001b[0;34m)\u001b[0m\u001b[0;34m\u001b[0m\u001b[0;34m\u001b[0m\u001b[0m\n",
            "\u001b[0;31mAttributeError\u001b[0m: can't set attribute"
          ]
        }
      ]
    },
    {
      "cell_type": "code",
      "metadata": {
        "id": "b0qkdm2RgnHb",
        "colab_type": "code",
        "colab": {
          "base_uri": "https://localhost:8080/",
          "height": 34
        },
        "outputId": "07aeacc3-a66e-4734-8408-012fff007e6b"
      },
      "source": [
        "# Another obvious tactic to circumvent this stipulation is using dictionaries i.e. hashmaps\n",
        "# Preferably you should implement your own custom mapping type but that above the scope of this particular game \n",
        "# Dictionaries are mapping types.\n",
        "mt = {\"n\": 4}\n",
        "# Define a function to operate on a key:\n",
        "def square(num_dict):\n",
        "    num_dict[\"n\"] *= num_dict[\"n\"]\n",
        "\n",
        "square(mt)\n",
        "mt"
      ],
      "execution_count": 10,
      "outputs": [
        {
          "output_type": "execute_result",
          "data": {
            "text/plain": [
              "{'n': 16}"
            ]
          },
          "metadata": {
            "tags": []
          },
          "execution_count": 10
        }
      ]
    }
  ]
}
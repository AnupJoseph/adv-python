{
  "nbformat": 4,
  "nbformat_minor": 0,
  "metadata": {
    "colab": {
      "name": "Generators.ipynb",
      "provenance": [],
      "authorship_tag": "ABX9TyMQgow8CzP+2i0y7ESrCQou",
      "include_colab_link": true
    },
    "kernelspec": {
      "name": "python3",
      "display_name": "Python 3"
    }
  },
  "cells": [
    {
      "cell_type": "markdown",
      "metadata": {
        "id": "view-in-github",
        "colab_type": "text"
      },
      "source": [
        "<a href=\"https://colab.research.google.com/github/AnupJoseph/adv-python/blob/master/Generators.ipynb\" target=\"_parent\"><img src=\"https://colab.research.google.com/assets/colab-badge.svg\" alt=\"Open In Colab\"/></a>"
      ]
    },
    {
      "cell_type": "code",
      "metadata": {
        "id": "7Qhx9cbfo4gY",
        "colab_type": "code",
        "colab": {
          "base_uri": "https://localhost:8080/",
          "height": 204
        },
        "outputId": "ba7cd70f-f691-47c8-c496-f1471471f8cf"
      },
      "source": [
        "!wget https://raw.githubusercontent.com/realpython/materials/master/generators/techcrunch.csv"
      ],
      "execution_count": 1,
      "outputs": [
        {
          "output_type": "stream",
          "text": [
            "--2020-08-13 11:44:47--  https://raw.githubusercontent.com/realpython/materials/master/generators/techcrunch.csv\n",
            "Resolving raw.githubusercontent.com (raw.githubusercontent.com)... 151.101.0.133, 151.101.64.133, 151.101.128.133, ...\n",
            "Connecting to raw.githubusercontent.com (raw.githubusercontent.com)|151.101.0.133|:443... connected.\n",
            "HTTP request sent, awaiting response... 200 OK\n",
            "Length: 93537 (91K) [text/plain]\n",
            "Saving to: ‘techcrunch.csv’\n",
            "\n",
            "\rtechcrunch.csv        0%[                    ]       0  --.-KB/s               \rtechcrunch.csv      100%[===================>]  91.34K  --.-KB/s    in 0.01s   \n",
            "\n",
            "2020-08-13 11:44:47 (9.38 MB/s) - ‘techcrunch.csv’ saved [93537/93537]\n",
            "\n"
          ],
          "name": "stdout"
        }
      ]
    },
    {
      "cell_type": "markdown",
      "metadata": {
        "id": "9OOr__v0qAXI",
        "colab_type": "text"
      },
      "source": [
        "Introduced with PEP 255, generator functions are a special kind of function that return a lazy iterator. These are objects that you can loop over like a list. However, unlike lists, lazy iterators do not store their contents in memory.\n",
        "\n",
        "Uses of generators:\n",
        "\n",
        "\n",
        "*   Reading Large Files\n",
        "*   Generating an Infinite Sequence\n",
        "*   Detecting Palindromes\n",
        "\n",
        "We'll go over this using examples"
      ]
    },
    {
      "cell_type": "code",
      "metadata": {
        "id": "O93XYxRhpW3j",
        "colab_type": "code",
        "colab": {
          "base_uri": "https://localhost:8080/",
          "height": 34
        },
        "outputId": "d830c434-59b6-4064-c275-527fb6b672ab"
      },
      "source": [
        "# A new cooler CSV reader\n",
        "def csv_reader(csv_file):\n",
        "  with open(csv_file) as file_obj:\n",
        "    for line in file_obj:\n",
        "      yield line\n",
        "\n",
        "def line_counter(file_obj):\n",
        "  csv_gen = csv_reader(file_obj)\n",
        "  row_count = 0\n",
        "  for row in csv_gen:\n",
        "    row_count += 1\n",
        "  print(f\"Row count is {row_count}\")\n",
        "\n",
        "line_counter('techcrunch.csv')"
      ],
      "execution_count": 2,
      "outputs": [
        {
          "output_type": "stream",
          "text": [
            "Row count is 1461\n"
          ],
          "name": "stdout"
        }
      ]
    },
    {
      "cell_type": "code",
      "metadata": {
        "id": "pbAlkMYaryAo",
        "colab_type": "code",
        "colab": {
          "base_uri": "https://localhost:8080/",
          "height": 34
        },
        "outputId": "4564fd40-4918-4cbd-9695-073511ba151a"
      },
      "source": [
        "# This is an even more smarter technique to generator creation called generator expression \n",
        "def line_counter(file_obj):\n",
        "  csv_gen = (row for row in open(file_obj)) # Key line here using the fact that open is always a lazy_iterator\n",
        "  row_count = 0\n",
        "  for row in csv_gen:\n",
        "    row_count += 1\n",
        "  print(f\"Row count is {row_count}\")\n",
        "\n",
        "line_counter('techcrunch.csv')"
      ],
      "execution_count": 3,
      "outputs": [
        {
          "output_type": "stream",
          "text": [
            "Row count is 1461\n"
          ],
          "name": "stdout"
        }
      ]
    },
    {
      "cell_type": "code",
      "metadata": {
        "id": "a5b-3Fq-sI8O",
        "colab_type": "code",
        "colab": {}
      },
      "source": [
        "# Generating an infinite sequence. This requires genrator patterns as the computer memory is finite \n",
        "\n",
        "def infinite_pattern():\n",
        "  num = 0\n",
        "  while True:\n",
        "    yield num\n",
        "    num += 1 "
      ],
      "execution_count": 4,
      "outputs": []
    },
    {
      "cell_type": "code",
      "metadata": {
        "id": "49Pe2ar9uN9h",
        "colab_type": "code",
        "colab": {
          "base_uri": "https://localhost:8080/",
          "height": 34
        },
        "outputId": "682247d3-64cb-4b5c-d1ba-de686e988da8"
      },
      "source": [
        "index = 0 \n",
        "for i in infinite_pattern():\n",
        "  index += 1\n",
        "  print(i, end=\" \")\n",
        "  if index == 10:\n",
        "    break"
      ],
      "execution_count": 5,
      "outputs": [
        {
          "output_type": "stream",
          "text": [
            "0 1 2 3 4 5 6 7 8 9 "
          ],
          "name": "stdout"
        }
      ]
    },
    {
      "cell_type": "code",
      "metadata": {
        "id": "NnAdDNz9uwZh",
        "colab_type": "code",
        "colab": {
          "base_uri": "https://localhost:8080/",
          "height": 51
        },
        "outputId": "b92d3ff4-ceb2-49d2-f530-d15933ec3512"
      },
      "source": [
        "# More usefully you can use a next() function to well get the next number\n",
        "\n",
        "gen = infinite_pattern()\n",
        "print(next(gen))\n",
        "print(next(gen))"
      ],
      "execution_count": 6,
      "outputs": [
        {
          "output_type": "stream",
          "text": [
            "0\n",
            "1\n"
          ],
          "name": "stdout"
        }
      ]
    },
    {
      "cell_type": "code",
      "metadata": {
        "id": "ZzW69tkPwALs",
        "colab_type": "code",
        "colab": {
          "base_uri": "https://localhost:8080/",
          "height": 34
        },
        "outputId": "9123b075-213c-4509-f891-0c8e3419b72f"
      },
      "source": [
        "# Using a generator expression\n",
        "next_sum_squared = (num**2 for num in range(5))\n",
        "print(next_sum_squared)\n",
        "\n",
        "# We use tuples for ensuring that lazy execution is performed and all tuple comprehension patterns are defaulted to generator expressions"
      ],
      "execution_count": 7,
      "outputs": [
        {
          "output_type": "stream",
          "text": [
            "<generator object <genexpr> at 0x7f7411c7cf68>\n"
          ],
          "name": "stdout"
        }
      ]
    },
    {
      "cell_type": "code",
      "metadata": {
        "id": "8EQ5ip-DwazE",
        "colab_type": "code",
        "colab": {}
      },
      "source": [
        "# Understanding Yield\n",
        "# When the Python yield statement is hit, the program suspends function execution and returns the yielded value to the caller. \n",
        "# (In contrast, return stops function execution completely.)"
      ],
      "execution_count": null,
      "outputs": []
    },
    {
      "cell_type": "code",
      "metadata": {
        "id": "N2qgdFVMqQbk",
        "colab_type": "code",
        "colab": {}
      },
      "source": [
        "# Advanced methods over yield\n",
        "\n",
        "def is_palindrome(num):\n",
        "  if num // 10 == 0:\n",
        "    return False\n",
        "  temp = num\n",
        "  reversed_num = 0\n",
        "\n",
        "  while temp:\n",
        "    reversed_num = (reversed_num*10)+(temp%10)\n",
        "    temp //= 10\n",
        "\n",
        "  if temp == num:\n",
        "    return True\n",
        "  else:\n",
        "    return False"
      ],
      "execution_count": 14,
      "outputs": []
    },
    {
      "cell_type": "code",
      "metadata": {
        "id": "r9aSr2T7q65_",
        "colab_type": "code",
        "colab": {}
      },
      "source": [
        "def infinite_palindrome():\n",
        "  num = 0\n",
        "  while True:\n",
        "    if is_palindrome(num):\n",
        "      i = (yield num) # This might seem linke an anti-pattern but in Python now yield is a expression-cum-statement\n",
        "      if i is not None:\n",
        "        num = 1\n",
        "    num += 1"
      ],
      "execution_count": 15,
      "outputs": []
    },
    {
      "cell_type": "code",
      "metadata": {
        "id": "IZ-c6bG8tW8v",
        "colab_type": "code",
        "colab": {
          "base_uri": "https://localhost:8080/",
          "height": 374
        },
        "outputId": "009122e1-89a2-4607-dad4-e8eaaf1817cb"
      },
      "source": [
        "# Due to this particular property of being an expression the yield statement can no return data.\n",
        "# And we can happily use this data for our particular brand of chicanery\n",
        "pal_gen = infinite_palindrome()\n",
        "for i in pal_gen:\n",
        "  digits = len(str(i))\n",
        "  pal_gen.send(10**(digits))"
      ],
      "execution_count": 16,
      "outputs": [
        {
          "output_type": "error",
          "ename": "KeyboardInterrupt",
          "evalue": "ignored",
          "traceback": [
            "\u001b[0;31m---------------------------------------------------------------------------\u001b[0m",
            "\u001b[0;31mKeyboardInterrupt\u001b[0m                         Traceback (most recent call last)",
            "\u001b[0;32m<ipython-input-16-ce2f3e9b9c92>\u001b[0m in \u001b[0;36m<module>\u001b[0;34m()\u001b[0m\n\u001b[1;32m      2\u001b[0m \u001b[0;31m# And we can happily use this data for our particular brand of chicanery\u001b[0m\u001b[0;34m\u001b[0m\u001b[0;34m\u001b[0m\u001b[0;34m\u001b[0m\u001b[0m\n\u001b[1;32m      3\u001b[0m \u001b[0mpal_gen\u001b[0m \u001b[0;34m=\u001b[0m \u001b[0minfinite_palindrome\u001b[0m\u001b[0;34m(\u001b[0m\u001b[0;34m)\u001b[0m\u001b[0;34m\u001b[0m\u001b[0;34m\u001b[0m\u001b[0m\n\u001b[0;32m----> 4\u001b[0;31m \u001b[0;32mfor\u001b[0m \u001b[0mi\u001b[0m \u001b[0;32min\u001b[0m \u001b[0mpal_gen\u001b[0m\u001b[0;34m:\u001b[0m\u001b[0;34m\u001b[0m\u001b[0;34m\u001b[0m\u001b[0m\n\u001b[0m\u001b[1;32m      5\u001b[0m   \u001b[0mdigits\u001b[0m \u001b[0;34m=\u001b[0m \u001b[0mlen\u001b[0m\u001b[0;34m(\u001b[0m\u001b[0mstr\u001b[0m\u001b[0;34m(\u001b[0m\u001b[0mi\u001b[0m\u001b[0;34m)\u001b[0m\u001b[0;34m)\u001b[0m\u001b[0;34m\u001b[0m\u001b[0;34m\u001b[0m\u001b[0m\n\u001b[1;32m      6\u001b[0m   \u001b[0mpal_gen\u001b[0m\u001b[0;34m.\u001b[0m\u001b[0msend\u001b[0m\u001b[0;34m(\u001b[0m\u001b[0;36m10\u001b[0m\u001b[0;34m**\u001b[0m\u001b[0;34m(\u001b[0m\u001b[0mdigits\u001b[0m\u001b[0;34m)\u001b[0m\u001b[0;34m)\u001b[0m\u001b[0;34m\u001b[0m\u001b[0;34m\u001b[0m\u001b[0m\n",
            "\u001b[0;32m<ipython-input-15-de78734e989f>\u001b[0m in \u001b[0;36minfinite_palindrome\u001b[0;34m()\u001b[0m\n\u001b[1;32m      2\u001b[0m   \u001b[0mnum\u001b[0m \u001b[0;34m=\u001b[0m \u001b[0;36m0\u001b[0m\u001b[0;34m\u001b[0m\u001b[0;34m\u001b[0m\u001b[0m\n\u001b[1;32m      3\u001b[0m   \u001b[0;32mwhile\u001b[0m \u001b[0;32mTrue\u001b[0m\u001b[0;34m:\u001b[0m\u001b[0;34m\u001b[0m\u001b[0;34m\u001b[0m\u001b[0m\n\u001b[0;32m----> 4\u001b[0;31m     \u001b[0;32mif\u001b[0m \u001b[0mis_palindrome\u001b[0m\u001b[0;34m(\u001b[0m\u001b[0mnum\u001b[0m\u001b[0;34m)\u001b[0m\u001b[0;34m:\u001b[0m\u001b[0;34m\u001b[0m\u001b[0;34m\u001b[0m\u001b[0m\n\u001b[0m\u001b[1;32m      5\u001b[0m       \u001b[0mi\u001b[0m \u001b[0;34m=\u001b[0m \u001b[0;34m(\u001b[0m\u001b[0;32myield\u001b[0m \u001b[0mnum\u001b[0m\u001b[0;34m)\u001b[0m \u001b[0;31m# This might seem linke an anti-pattern but in Python now yield is a expression-cum-statement\u001b[0m\u001b[0;34m\u001b[0m\u001b[0;34m\u001b[0m\u001b[0m\n\u001b[1;32m      6\u001b[0m       \u001b[0;32mif\u001b[0m \u001b[0mi\u001b[0m \u001b[0;32mis\u001b[0m \u001b[0;32mnot\u001b[0m \u001b[0;32mNone\u001b[0m\u001b[0;34m:\u001b[0m\u001b[0;34m\u001b[0m\u001b[0;34m\u001b[0m\u001b[0m\n",
            "\u001b[0;32m<ipython-input-14-e5ebadcdd78f>\u001b[0m in \u001b[0;36mis_palindrome\u001b[0;34m(num)\u001b[0m\n\u001b[1;32m      9\u001b[0m   \u001b[0;32mwhile\u001b[0m \u001b[0mtemp\u001b[0m\u001b[0;34m:\u001b[0m\u001b[0;34m\u001b[0m\u001b[0;34m\u001b[0m\u001b[0m\n\u001b[1;32m     10\u001b[0m     \u001b[0mreversed_num\u001b[0m \u001b[0;34m=\u001b[0m \u001b[0;34m(\u001b[0m\u001b[0mreversed_num\u001b[0m\u001b[0;34m*\u001b[0m\u001b[0;36m10\u001b[0m\u001b[0;34m)\u001b[0m\u001b[0;34m+\u001b[0m\u001b[0;34m(\u001b[0m\u001b[0mtemp\u001b[0m\u001b[0;34m%\u001b[0m\u001b[0;36m10\u001b[0m\u001b[0;34m)\u001b[0m\u001b[0;34m\u001b[0m\u001b[0;34m\u001b[0m\u001b[0m\n\u001b[0;32m---> 11\u001b[0;31m     \u001b[0mtemp\u001b[0m \u001b[0;34m//=\u001b[0m \u001b[0;36m10\u001b[0m\u001b[0;34m\u001b[0m\u001b[0;34m\u001b[0m\u001b[0m\n\u001b[0m\u001b[1;32m     12\u001b[0m \u001b[0;34m\u001b[0m\u001b[0m\n\u001b[1;32m     13\u001b[0m   \u001b[0;32mif\u001b[0m \u001b[0mtemp\u001b[0m \u001b[0;34m==\u001b[0m \u001b[0mnum\u001b[0m\u001b[0;34m:\u001b[0m\u001b[0;34m\u001b[0m\u001b[0;34m\u001b[0m\u001b[0m\n",
            "\u001b[0;31mKeyboardInterrupt\u001b[0m: "
          ]
        }
      ]
    },
    {
      "cell_type": "code",
      "metadata": {
        "id": "O8w19Nvf1POt",
        "colab_type": "code",
        "colab": {}
      },
      "source": [
        "# This pattern is called a co-routine\n",
        "# Now lets take a look at .throw() which allows you to throw exceptions with the generator. "
      ],
      "execution_count": null,
      "outputs": []
    },
    {
      "cell_type": "code",
      "metadata": {
        "id": "-hFwspG12MYg",
        "colab_type": "code",
        "colab": {}
      },
      "source": [
        "pal_gen = infinite_palindrome()\n",
        "for i in pal_gen:\n",
        "    print(i)\n",
        "    digits = len(str(i))\n",
        "    if digits == 5:\n",
        "        pal_gen.throw(ValueError(\"We don't like large palindromes\"))\n",
        "    pal_gen.send(10 ** (digits))"
      ],
      "execution_count": null,
      "outputs": []
    },
    {
      "cell_type": "code",
      "metadata": {
        "id": "gOrEw6aJ2_tp",
        "colab_type": "code",
        "colab": {}
      },
      "source": [
        "# Use a generator expression to read the lines of the file\n",
        "file_name = 'techcrunch.csv'\n",
        "lines = (line for line in open(file_name))\n",
        "\n",
        "# Then we use another generator expression to split each line into a line\n",
        "list_line = (line.rstrip().split(',') for line in lines)  # If you are wondering about the rstrip its to clear up the trailing \\n \n",
        "\n",
        "# To get the first line i.e. column names in the csv file use\n",
        "columns = next(list_line)"
      ],
      "execution_count": 49,
      "outputs": []
    },
    {
      "cell_type": "code",
      "metadata": {
        "id": "USY7GyKN-A2W",
        "colab_type": "code",
        "colab": {
          "base_uri": "https://localhost:8080/",
          "height": 34
        },
        "outputId": "d56a75b6-75eb-4363-a9e3-cdbcaf06dbee"
      },
      "source": [
        "for i in columns:\n",
        "  print(i,end=' ')"
      ],
      "execution_count": 39,
      "outputs": [
        {
          "output_type": "stream",
          "text": [
            "permalink company numEmps category city state fundedDate raisedAmt raisedCurrency round "
          ],
          "name": "stdout"
        }
      ]
    },
    {
      "cell_type": "code",
      "metadata": {
        "id": "nBYIZrkR3mcR",
        "colab_type": "code",
        "colab": {}
      },
      "source": [
        "# Now to use this expression we will create a dictionary of each company as as separate element and of course use a generator expression to apply them\n",
        "company_dict = (dict(zip(columns,data)) for data in list_line)"
      ],
      "execution_count": 50,
      "outputs": []
    },
    {
      "cell_type": "code",
      "metadata": {
        "id": "MRncB0H77ZFD",
        "colab_type": "code",
        "colab": {}
      },
      "source": [
        "funding = ( int(company['raisedAmt']) for company in company_dict if company.get('round') == 'a')"
      ],
      "execution_count": 47,
      "outputs": []
    },
    {
      "cell_type": "code",
      "metadata": {
        "id": "xOY43O3Q9bCe",
        "colab_type": "code",
        "colab": {
          "base_uri": "https://localhost:8080/",
          "height": 34
        },
        "outputId": "3d04df56-b237-4e4e-a191-ac50e4538347"
      },
      "source": [
        "total_series_a = sum(funding)\n",
        "total_series_a"
      ],
      "execution_count": 48,
      "outputs": [
        {
          "output_type": "execute_result",
          "data": {
            "text/plain": [
              "4376015000"
            ]
          },
          "metadata": {
            "tags": []
          },
          "execution_count": 48
        }
      ]
    },
    {
      "cell_type": "code",
      "metadata": {
        "id": "U7lqO67o_uzS",
        "colab_type": "code",
        "colab": {}
      },
      "source": [
        "# A few pitfalls \n",
        "# these expressions can and possibly will produce errors which are difficult to debug and unintuitve so be careful"
      ],
      "execution_count": null,
      "outputs": []
    }
  ]
}
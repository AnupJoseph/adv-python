{
  "nbformat": 4,
  "nbformat_minor": 0,
  "metadata": {
    "colab": {
      "name": "Generators.ipynb",
      "provenance": [],
      "authorship_tag": "ABX9TyMur3CxDEk5zSS/2D3/uYN7",
      "include_colab_link": true
    },
    "kernelspec": {
      "name": "python3",
      "display_name": "Python 3"
    }
  },
  "cells": [
    {
      "cell_type": "markdown",
      "metadata": {
        "id": "view-in-github",
        "colab_type": "text"
      },
      "source": [
        "<a href=\"https://colab.research.google.com/github/AnupJoseph/adv-python/blob/master/Generators.ipynb\" target=\"_parent\"><img src=\"https://colab.research.google.com/assets/colab-badge.svg\" alt=\"Open In Colab\"/></a>"
      ]
    },
    {
      "cell_type": "code",
      "metadata": {
        "id": "7Qhx9cbfo4gY",
        "colab_type": "code",
        "colab": {}
      },
      "source": [
        "!wget https://raw.githubusercontent.com/realpython/materials/master/generators/techcrunch.csv"
      ],
      "execution_count": 1,
      "outputs": []
    },
    {
      "cell_type": "markdown",
      "metadata": {
        "id": "9OOr__v0qAXI",
        "colab_type": "text"
      },
      "source": [
        "Introduced with PEP 255, generator functions are a special kind of function that return a lazy iterator. These are objects that you can loop over like a list. However, unlike lists, lazy iterators do not store their contents in memory.\n",
        "\n",
        "Uses of generators:\n",
        "\n",
        "\n",
        "*   Reading Large Files\n",
        "*   Generating an Infinite Sequence\n",
        "*   Detecting Palindromes\n",
        "\n",
        "We'll go over this using examples"
      ]
    },
    {
      "cell_type": "code",
      "metadata": {
        "id": "O93XYxRhpW3j",
        "colab_type": "code",
        "colab": {
          "base_uri": "https://localhost:8080/",
          "height": 34
        },
        "outputId": "20318fba-db07-4ae3-f536-0ac861eaff9e"
      },
      "source": [
        "# A new cooler CSV reader\n",
        "def csv_reader(csv_file):\n",
        "  with open(csv_file) as file_obj:\n",
        "    for line in file_obj:\n",
        "      yield line\n",
        "\n",
        "def line_counter(file_obj):\n",
        "  csv_gen = csv_reader(file_obj)\n",
        "  row_count = 0\n",
        "  for row in csv_gen:\n",
        "    row_count += 1\n",
        "  print(f\"Row count is {row_count}\")\n",
        "\n",
        "line_counter('techcrunch.csv')"
      ],
      "execution_count": 3,
      "outputs": [
        {
          "output_type": "stream",
          "text": [
            "Row count is 1461\n"
          ],
          "name": "stdout"
        }
      ]
    },
    {
      "cell_type": "code",
      "metadata": {
        "id": "pbAlkMYaryAo",
        "colab_type": "code",
        "colab": {
          "base_uri": "https://localhost:8080/",
          "height": 34
        },
        "outputId": "eab0d53a-7bea-449b-e9df-d60c15f7e8c2"
      },
      "source": [
        "# This is an even more smarter technique to generator creation called generator expression \n",
        "def line_counter(file_obj):\n",
        "  csv_gen = (row for row in open(file_obj)) # Key line here using the fact that open is always a lazy_iterator\n",
        "  row_count = 0\n",
        "  for row in csv_gen:\n",
        "    row_count += 1\n",
        "  print(f\"Row count is {row_count}\")\n",
        "\n",
        "line_counter('techcrunch.csv')"
      ],
      "execution_count": 4,
      "outputs": [
        {
          "output_type": "stream",
          "text": [
            "Row count is 1461\n"
          ],
          "name": "stdout"
        }
      ]
    },
    {
      "cell_type": "code",
      "metadata": {
        "id": "a5b-3Fq-sI8O",
        "colab_type": "code",
        "colab": {}
      },
      "source": [
        "# Generating an infinite sequence. This requires genrator patterns as the computer memory is finite \n",
        "\n",
        "def infinite_pattern():\n",
        "  num = 0\n",
        "  while True:\n",
        "    yield num\n",
        "    num += 1 "
      ],
      "execution_count": 6,
      "outputs": []
    },
    {
      "cell_type": "code",
      "metadata": {
        "id": "49Pe2ar9uN9h",
        "colab_type": "code",
        "colab": {
          "base_uri": "https://localhost:8080/",
          "height": 34
        },
        "outputId": "abc44439-25d2-4275-b43b-f9bf0472ab88"
      },
      "source": [
        "index = 0 \n",
        "for i in infinite_pattern():\n",
        "  index += 1\n",
        "  print(i, end=\" \")\n",
        "  if index == 10:\n",
        "    break"
      ],
      "execution_count": 10,
      "outputs": [
        {
          "output_type": "stream",
          "text": [
            "0 1 2 3 4 5 6 7 8 9 "
          ],
          "name": "stdout"
        }
      ]
    },
    {
      "cell_type": "code",
      "metadata": {
        "id": "NnAdDNz9uwZh",
        "colab_type": "code",
        "colab": {
          "base_uri": "https://localhost:8080/",
          "height": 51
        },
        "outputId": "79604a00-21ec-43ea-a66c-c4da3e71c074"
      },
      "source": [
        "# More usefully you can use a next() function to well get the next number\n",
        "\n",
        "gen = infinite_pattern()\n",
        "print(next(gen))\n",
        "print(next(gen))"
      ],
      "execution_count": 14,
      "outputs": [
        {
          "output_type": "stream",
          "text": [
            "0\n",
            "1\n"
          ],
          "name": "stdout"
        }
      ]
    },
    {
      "cell_type": "code",
      "metadata": {
        "id": "ZzW69tkPwALs",
        "colab_type": "code",
        "colab": {
          "base_uri": "https://localhost:8080/",
          "height": 34
        },
        "outputId": "872bd74f-b02b-441e-c682-3cdc6d21b1aa"
      },
      "source": [
        "# Using a generator expression\n",
        "next_sum_squared = (num**2 for num in range(5))\n",
        "print(next_sum_squared)\n",
        "\n",
        "# We use tuples for ensuring that lazy execution is performed and all tuple comprehension patterns are defaulted to generator expressions"
      ],
      "execution_count": 17,
      "outputs": [
        {
          "output_type": "stream",
          "text": [
            "<generator object <genexpr> at 0x7fb2565e5af0>\n"
          ],
          "name": "stdout"
        }
      ]
    },
    {
      "cell_type": "code",
      "metadata": {
        "id": "8EQ5ip-DwazE",
        "colab_type": "code",
        "colab": {}
      },
      "source": [
        ""
      ],
      "execution_count": null,
      "outputs": []
    }
  ]
}
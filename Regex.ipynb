{
  "nbformat": 4,
  "nbformat_minor": 0,
  "metadata": {
    "colab": {
      "name": "Regex.ipynb",
      "provenance": [],
      "authorship_tag": "ABX9TyP6rhCxDbkziKeP1cte69jZ",
      "include_colab_link": true
    },
    "kernelspec": {
      "name": "python3",
      "display_name": "Python 3"
    }
  },
  "cells": [
    {
      "cell_type": "markdown",
      "metadata": {
        "id": "view-in-github",
        "colab_type": "text"
      },
      "source": [
        "<a href=\"https://colab.research.google.com/github/AnupJoseph/adv-python/blob/master/Regex.ipynb\" target=\"_parent\"><img src=\"https://colab.research.google.com/assets/colab-badge.svg\" alt=\"Open In Colab\"/></a>"
      ]
    },
    {
      "cell_type": "code",
      "metadata": {
        "id": "9dbDhQ7TDJHf",
        "colab_type": "code",
        "colab": {}
      },
      "source": [
        "# Essentially just a way to print all outputs of a Jupyter notebook\n",
        "from IPython.core.interactiveshell import InteractiveShell\n",
        "InteractiveShell.ast_node_interactivity = \"all\""
      ],
      "execution_count": 8,
      "outputs": []
    },
    {
      "cell_type": "code",
      "metadata": {
        "id": "5H5Y_xEZ_tvT",
        "colab_type": "code",
        "colab": {}
      },
      "source": [
        "import re"
      ],
      "execution_count": 1,
      "outputs": []
    },
    {
      "cell_type": "code",
      "metadata": {
        "id": "noVA5rp1BHtH",
        "colab_type": "code",
        "colab": {
          "base_uri": "https://localhost:8080/",
          "height": 34
        },
        "outputId": "13e1647f-d2c8-44c2-e4c3-f4a07852502e"
      },
      "source": [
        ""
      ],
      "execution_count": 5,
      "outputs": [
        {
          "output_type": "execute_result",
          "data": {
            "text/plain": [
              "(0, 3)"
            ]
          },
          "metadata": {
            "tags": []
          },
          "execution_count": 5
        }
      ]
    },
    {
      "cell_type": "code",
      "metadata": {
        "id": "Z8SQ306EAGYM",
        "colab_type": "code",
        "colab": {
          "base_uri": "https://localhost:8080/",
          "height": 51
        },
        "outputId": "199ae704-e378-42a4-dd4a-78dbd6c01cb8"
      },
      "source": [
        "# [] Characters contained in square brackets represent a character class —an enumerated set of characters to match from.\n",
        "\n",
        "# To individually match charcters\n",
        "re.search('ba[artz]','bat')\n",
        "\n",
        "# The [] also allows to provide a range of characters just add a hyphen between the start and the end\n",
        "re.search('[a-z]','bar')\n",
        "\n",
        "# To match a hexadecimal number\n",
        "re.search('[0-9a-fA-F]','----a0----')\n",
        "\n",
        "# To complement the character class just use the ^ charcter at the start.If not used at the start then it has no special meaning.In this case it will match any character which does not belong to the set\n",
        "re.search('[^0-9]','12345foo')\n",
        "\n",
        "# Just as a side note if you want to create a literal match to any of the character with a special meaning like -,[,] et cetera then just escape it with a backslash\n",
        "# TO escape a backslash itself use a raw string i.e. r'\\\\'\n",
        "# Also other metacharacters loose their meaning in a character class"
      ],
      "execution_count": 17,
      "outputs": [
        {
          "output_type": "execute_result",
          "data": {
            "text/plain": [
              "<_sre.SRE_Match object; span=(0, 3), match='bat'>"
            ]
          },
          "metadata": {
            "tags": []
          },
          "execution_count": 17
        },
        {
          "output_type": "execute_result",
          "data": {
            "text/plain": [
              "<_sre.SRE_Match object; span=(0, 1), match='b'>"
            ]
          },
          "metadata": {
            "tags": []
          },
          "execution_count": 17
        },
        {
          "output_type": "execute_result",
          "data": {
            "text/plain": [
              "<_sre.SRE_Match object; span=(4, 5), match='a'>"
            ]
          },
          "metadata": {
            "tags": []
          },
          "execution_count": 17
        },
        {
          "output_type": "execute_result",
          "data": {
            "text/plain": [
              "<_sre.SRE_Match object; span=(5, 6), match='f'>"
            ]
          },
          "metadata": {
            "tags": []
          },
          "execution_count": 17
        }
      ]
    },
    {
      "cell_type": "code",
      "metadata": {
        "id": "0ZBMp1D2FQAk",
        "colab_type": "code",
        "colab": {
          "base_uri": "https://localhost:8080/",
          "height": 34
        },
        "outputId": "95061a55-4b76-4053-b626-feee262676f4"
      },
      "source": [
        "# dot (.) metacharacter matches any single character except a newline\n",
        "re.search('foo.bar','fooxbar')\n",
        "\n",
        "re.search('foo.bar','foobar')"
      ],
      "execution_count": 14,
      "outputs": [
        {
          "output_type": "execute_result",
          "data": {
            "text/plain": [
              "<_sre.SRE_Match object; span=(0, 7), match='fooxbar'>"
            ]
          },
          "metadata": {
            "tags": []
          },
          "execution_count": 14
        }
      ]
    },
    {
      "cell_type": "code",
      "metadata": {
        "id": "PGtdRsPOFoxa",
        "colab_type": "code",
        "colab": {
          "base_uri": "https://localhost:8080/",
          "height": 51
        },
        "outputId": "bbd88c43-206c-4980-ece6-b89ab3e8c975"
      },
      "source": [
        "# \\w matches any alphanumeric character so essentially it is shorthand for [a-zA-Z0-9_]\n",
        "re.search('\\w','#(.a$@&')\n",
        "\n",
        "re.search('[a-zA-Z0-9_]','#(.a$@&')\n",
        "\n",
        "# \\W is the complement of \\w\n",
        "\n",
        "# \\d matches any digit charcter\n",
        "re.search('\\d', 'abc4def')\n",
        "\n",
        "# \\s matches any whitespace character. Just to be clear \\s does match a newline. It considers newline to be a whitespace\n",
        "re.search('\\s', 'foo\\nbar baz')"
      ],
      "execution_count": 16,
      "outputs": [
        {
          "output_type": "execute_result",
          "data": {
            "text/plain": [
              "<_sre.SRE_Match object; span=(3, 4), match='a'>"
            ]
          },
          "metadata": {
            "tags": []
          },
          "execution_count": 16
        },
        {
          "output_type": "execute_result",
          "data": {
            "text/plain": [
              "<_sre.SRE_Match object; span=(3, 4), match='a'>"
            ]
          },
          "metadata": {
            "tags": []
          },
          "execution_count": 16
        },
        {
          "output_type": "execute_result",
          "data": {
            "text/plain": [
              "<_sre.SRE_Match object; span=(3, 4), match='4'>"
            ]
          },
          "metadata": {
            "tags": []
          },
          "execution_count": 16
        },
        {
          "output_type": "execute_result",
          "data": {
            "text/plain": [
              "<_sre.SRE_Match object; span=(3, 4), match='\\n'>"
            ]
          },
          "metadata": {
            "tags": []
          },
          "execution_count": 16
        }
      ]
    },
    {
      "cell_type": "code",
      "metadata": {
        "id": "S0IqGX5-HvTd",
        "colab_type": "code",
        "colab": {
          "base_uri": "https://localhost:8080/",
          "height": 51
        },
        "outputId": "6b6e0a30-2d45-4a08-c624-3938d6d15af4"
      },
      "source": [
        "# Anchor matches stipulate the location at which the parser should start the matching process\n",
        "\n",
        "# ^ or \\A states that match shuld be at the start of the string\n",
        "re.search('^foo', 'foobar')\n",
        "re.search('\\Afoo', 'foobar')\n",
        "\n",
        "# When the regex parser encounters $ or \\Z, the parser’s current position must be at the end of the search string for it to find a match. Whatever precedes $ or \\Z must constitute the end of the search string\n",
        "re.search('bar$', 'foobar')\n",
        "\n",
        "# \\b asserts that the regex parser’s current position must be at the beginning or end of a word. A word consists of a sequence of alphanumeric characters or underscores ([a-zA-Z0-9_])\n",
        "re.search(r'\\bbar', 'foo bar')"
      ],
      "execution_count": 20,
      "outputs": [
        {
          "output_type": "execute_result",
          "data": {
            "text/plain": [
              "<_sre.SRE_Match object; span=(0, 3), match='foo'>"
            ]
          },
          "metadata": {
            "tags": []
          },
          "execution_count": 20
        },
        {
          "output_type": "execute_result",
          "data": {
            "text/plain": [
              "<_sre.SRE_Match object; span=(0, 3), match='foo'>"
            ]
          },
          "metadata": {
            "tags": []
          },
          "execution_count": 20
        },
        {
          "output_type": "execute_result",
          "data": {
            "text/plain": [
              "<_sre.SRE_Match object; span=(3, 6), match='bar'>"
            ]
          },
          "metadata": {
            "tags": []
          },
          "execution_count": 20
        },
        {
          "output_type": "execute_result",
          "data": {
            "text/plain": [
              "<_sre.SRE_Match object; span=(4, 7), match='bar'>"
            ]
          },
          "metadata": {
            "tags": []
          },
          "execution_count": 20
        }
      ]
    }
  ]
}
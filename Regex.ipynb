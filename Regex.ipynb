{
  "nbformat": 4,
  "nbformat_minor": 0,
  "metadata": {
    "colab": {
      "name": "Regex.ipynb",
      "provenance": [],
      "authorship_tag": "ABX9TyNrXOy0KX2yoj5+1Ub/sevL",
      "include_colab_link": true
    },
    "kernelspec": {
      "name": "python3",
      "display_name": "Python 3"
    }
  },
  "cells": [
    {
      "cell_type": "markdown",
      "metadata": {
        "id": "view-in-github",
        "colab_type": "text"
      },
      "source": [
        "<a href=\"https://colab.research.google.com/github/AnupJoseph/adv-python/blob/master/Regex.ipynb\" target=\"_parent\"><img src=\"https://colab.research.google.com/assets/colab-badge.svg\" alt=\"Open In Colab\"/></a>"
      ]
    },
    {
      "cell_type": "code",
      "metadata": {
        "id": "9dbDhQ7TDJHf",
        "colab_type": "code",
        "colab": {}
      },
      "source": [
        "# Essentially just a way to print all outputs of a Jupyter notebook\n",
        "from IPython.core.interactiveshell import InteractiveShell\n",
        "InteractiveShell.ast_node_interactivity = \"all\"\n",
        "\n",
        "import re"
      ],
      "execution_count": 2,
      "outputs": []
    },
    {
      "cell_type": "code",
      "metadata": {
        "id": "Z8SQ306EAGYM",
        "colab_type": "code",
        "colab": {
          "base_uri": "https://localhost:8080/",
          "height": 51
        },
        "outputId": "199ae704-e378-42a4-dd4a-78dbd6c01cb8"
      },
      "source": [
        "# [] Characters contained in square brackets represent a character class —an enumerated set of characters to match from.\n",
        "\n",
        "# To individually match charcters\n",
        "re.search('ba[artz]','bat')\n",
        "\n",
        "# The [] also allows to provide a range of characters just add a hyphen between the start and the end\n",
        "re.search('[a-z]','bar')\n",
        "\n",
        "# To match a hexadecimal number\n",
        "re.search('[0-9a-fA-F]','----a0----')\n",
        "\n",
        "# To complement the character class just use the ^ charcter at the start.If not used at the start then it has no special meaning.In this case it will match any character which does not belong to the set\n",
        "re.search('[^0-9]','12345foo')\n",
        "\n",
        "# Just as a side note if you want to create a literal match to any of the character with a special meaning like -,[,] et cetera then just escape it with a backslash\n",
        "# TO escape a backslash itself use a raw string i.e. r'\\\\'\n",
        "# Also other metacharacters loose their meaning in a character class"
      ],
      "execution_count": null,
      "outputs": [
        {
          "output_type": "execute_result",
          "data": {
            "text/plain": [
              "<_sre.SRE_Match object; span=(0, 3), match='bat'>"
            ]
          },
          "metadata": {
            "tags": []
          },
          "execution_count": 17
        },
        {
          "output_type": "execute_result",
          "data": {
            "text/plain": [
              "<_sre.SRE_Match object; span=(0, 1), match='b'>"
            ]
          },
          "metadata": {
            "tags": []
          },
          "execution_count": 17
        },
        {
          "output_type": "execute_result",
          "data": {
            "text/plain": [
              "<_sre.SRE_Match object; span=(4, 5), match='a'>"
            ]
          },
          "metadata": {
            "tags": []
          },
          "execution_count": 17
        },
        {
          "output_type": "execute_result",
          "data": {
            "text/plain": [
              "<_sre.SRE_Match object; span=(5, 6), match='f'>"
            ]
          },
          "metadata": {
            "tags": []
          },
          "execution_count": 17
        }
      ]
    },
    {
      "cell_type": "code",
      "metadata": {
        "id": "0ZBMp1D2FQAk",
        "colab_type": "code",
        "colab": {
          "base_uri": "https://localhost:8080/",
          "height": 34
        },
        "outputId": "95061a55-4b76-4053-b626-feee262676f4"
      },
      "source": [
        "# dot (.) metacharacter matches any single character except a newline\n",
        "re.search('foo.bar','fooxbar')\n",
        "\n",
        "re.search('foo.bar','foobar')"
      ],
      "execution_count": null,
      "outputs": [
        {
          "output_type": "execute_result",
          "data": {
            "text/plain": [
              "<_sre.SRE_Match object; span=(0, 7), match='fooxbar'>"
            ]
          },
          "metadata": {
            "tags": []
          },
          "execution_count": 14
        }
      ]
    },
    {
      "cell_type": "code",
      "metadata": {
        "id": "PGtdRsPOFoxa",
        "colab_type": "code",
        "colab": {
          "base_uri": "https://localhost:8080/",
          "height": 51
        },
        "outputId": "bbd88c43-206c-4980-ece6-b89ab3e8c975"
      },
      "source": [
        "# \\w matches any alphanumeric character so essentially it is shorthand for [a-zA-Z0-9_]\n",
        "re.search('\\w','#(.a$@&')\n",
        "\n",
        "re.search('[a-zA-Z0-9_]','#(.a$@&')\n",
        "\n",
        "# \\W is the complement of \\w\n",
        "\n",
        "# \\d matches any digit charcter\n",
        "re.search('\\d', 'abc4def')\n",
        "\n",
        "# \\s matches any whitespace character. Just to be clear \\s does match a newline. It considers newline to be a whitespace\n",
        "re.search('\\s', 'foo\\nbar baz')"
      ],
      "execution_count": null,
      "outputs": [
        {
          "output_type": "execute_result",
          "data": {
            "text/plain": [
              "<_sre.SRE_Match object; span=(3, 4), match='a'>"
            ]
          },
          "metadata": {
            "tags": []
          },
          "execution_count": 16
        },
        {
          "output_type": "execute_result",
          "data": {
            "text/plain": [
              "<_sre.SRE_Match object; span=(3, 4), match='a'>"
            ]
          },
          "metadata": {
            "tags": []
          },
          "execution_count": 16
        },
        {
          "output_type": "execute_result",
          "data": {
            "text/plain": [
              "<_sre.SRE_Match object; span=(3, 4), match='4'>"
            ]
          },
          "metadata": {
            "tags": []
          },
          "execution_count": 16
        },
        {
          "output_type": "execute_result",
          "data": {
            "text/plain": [
              "<_sre.SRE_Match object; span=(3, 4), match='\\n'>"
            ]
          },
          "metadata": {
            "tags": []
          },
          "execution_count": 16
        }
      ]
    },
    {
      "cell_type": "code",
      "metadata": {
        "id": "S0IqGX5-HvTd",
        "colab_type": "code",
        "colab": {
          "base_uri": "https://localhost:8080/",
          "height": 51
        },
        "outputId": "6b6e0a30-2d45-4a08-c624-3938d6d15af4"
      },
      "source": [
        "# Anchor matches stipulate the location at which the parser should start the matching process\n",
        "\n",
        "# ^ or \\A states that match shuld be at the start of the string\n",
        "re.search('^foo', 'foobar')\n",
        "re.search('\\Afoo', 'foobar')\n",
        "\n",
        "# When the regex parser encounters $ or \\Z, the parser’s current position must be at the end of the search string for it to find a match. Whatever precedes $ or \\Z must constitute the end of the search string\n",
        "re.search('bar$', 'foobar')\n",
        "\n",
        "# \\b asserts that the regex parser’s current position must be at the beginning or end of a word. A word consists of a sequence of alphanumeric characters or underscores ([a-zA-Z0-9_])\n",
        "re.search(r'\\bbar', 'foo bar')"
      ],
      "execution_count": null,
      "outputs": [
        {
          "output_type": "execute_result",
          "data": {
            "text/plain": [
              "<_sre.SRE_Match object; span=(0, 3), match='foo'>"
            ]
          },
          "metadata": {
            "tags": []
          },
          "execution_count": 20
        },
        {
          "output_type": "execute_result",
          "data": {
            "text/plain": [
              "<_sre.SRE_Match object; span=(0, 3), match='foo'>"
            ]
          },
          "metadata": {
            "tags": []
          },
          "execution_count": 20
        },
        {
          "output_type": "execute_result",
          "data": {
            "text/plain": [
              "<_sre.SRE_Match object; span=(3, 6), match='bar'>"
            ]
          },
          "metadata": {
            "tags": []
          },
          "execution_count": 20
        },
        {
          "output_type": "execute_result",
          "data": {
            "text/plain": [
              "<_sre.SRE_Match object; span=(4, 7), match='bar'>"
            ]
          },
          "metadata": {
            "tags": []
          },
          "execution_count": 20
        }
      ]
    },
    {
      "cell_type": "code",
      "metadata": {
        "id": "AZkFBE2Yg5FS",
        "colab_type": "code",
        "colab": {
          "base_uri": "https://localhost:8080/",
          "height": 51
        },
        "outputId": "267c38bc-8d56-430e-8edf-f1ba7d195ef9"
      },
      "source": [
        "# Quantifiers can be used for constructing matches of characters and character classes\n",
        "\n",
        "# * Matches zero or more repetitions of the preceding regex.\n",
        "re.search('foo!*bar','foo!!bar')\n",
        "\n",
        "# + Matches one or more repetitions of the preceding regex.\n",
        "re.search('foo-+bar','foobar')\n",
        "re.search('foo-+bar','foo--bar')\n",
        "\n",
        "# ? Matches zero or one repetitions of the preceding regex.\n",
        "re.search('foo-?bar', 'foobar')                     # Zero dashes\n",
        "re.search('foo-?bar', 'foo-bar')                    # One dash\n",
        "print(re.search('foo-?bar', 'foo--bar'))            # Two dashes\n",
        "\n",
        "# Quantifiers are automatically greedy by nature i.e. the quantifier produces the longest match possible \n",
        "# To reverse this behaviour the character ? can be used to find the shortest possible match"
      ],
      "execution_count": null,
      "outputs": [
        {
          "output_type": "execute_result",
          "data": {
            "text/plain": [
              "<_sre.SRE_Match object; span=(0, 8), match='foo!!bar'>"
            ]
          },
          "metadata": {
            "tags": []
          },
          "execution_count": 6
        },
        {
          "output_type": "execute_result",
          "data": {
            "text/plain": [
              "<_sre.SRE_Match object; span=(0, 8), match='foo--bar'>"
            ]
          },
          "metadata": {
            "tags": []
          },
          "execution_count": 6
        },
        {
          "output_type": "execute_result",
          "data": {
            "text/plain": [
              "<_sre.SRE_Match object; span=(0, 6), match='foobar'>"
            ]
          },
          "metadata": {
            "tags": []
          },
          "execution_count": 6
        },
        {
          "output_type": "execute_result",
          "data": {
            "text/plain": [
              "<_sre.SRE_Match object; span=(0, 7), match='foo-bar'>"
            ]
          },
          "metadata": {
            "tags": []
          },
          "execution_count": 6
        },
        {
          "output_type": "stream",
          "text": [
            "None\n"
          ],
          "name": "stdout"
        }
      ]
    },
    {
      "cell_type": "code",
      "metadata": {
        "id": "H62x9nibi5wM",
        "colab_type": "code",
        "colab": {
          "base_uri": "https://localhost:8080/",
          "height": 119
        },
        "outputId": "756d9290-968f-41f6-a2f2-aee3590fa641"
      },
      "source": [
        "# {m} Matches exactly m repetitions of the preceding regex.\n",
        "re.search('x-{3}x','x--x')\n",
        "re.search('x-{3}x','x---x')\n",
        "\n",
        "# {m,n} Matches any number of repetitions of the preceding regex from m to n, inclusive.\n",
        "for i in range(6):\n",
        "  s = f\"x{'-'*i}x\"\n",
        "  print(f\"{i} {s:10}\",re.search('x-{2,4}x',s))"
      ],
      "execution_count": null,
      "outputs": [
        {
          "output_type": "execute_result",
          "data": {
            "text/plain": [
              "<_sre.SRE_Match object; span=(0, 5), match='x---x'>"
            ]
          },
          "metadata": {
            "tags": []
          },
          "execution_count": 3
        },
        {
          "output_type": "stream",
          "text": [
            "0 xx         None\n",
            "1 x-x        None\n",
            "2 x--x       <_sre.SRE_Match object; span=(0, 4), match='x--x'>\n",
            "3 x---x      <_sre.SRE_Match object; span=(0, 5), match='x---x'>\n",
            "4 x----x     <_sre.SRE_Match object; span=(0, 6), match='x----x'>\n",
            "5 x-----x    None\n"
          ],
          "name": "stdout"
        }
      ]
    },
    {
      "cell_type": "code",
      "metadata": {
        "id": "nhWhVyCymGjA",
        "colab_type": "code",
        "colab": {
          "base_uri": "https://localhost:8080/",
          "height": 51
        },
        "outputId": "bb424716-7649-4104-9b88-cc2a80171941"
      },
      "source": [
        "# Grouping contructs\n",
        "# () - basic contruct simply matches whatever is in the brackets\n",
        "re.search('(bar)','foo bar xzx') \n",
        "\n",
        "# On addition of a quantifier the entire group is applied with the quantifier\n",
        "re.search('(bar)+', 'foo barbar baz')\n",
        "\n",
        "# Lets take a more complex construct\n",
        "# The regex (ba[rz]){2,4}(qux)? matches 2 to 4 occurrences of either 'bar' or 'baz', optionally followed by 'qux'\n",
        "re.search('(ba[rz]){2,4}(qux)?', 'bazbarbazqux')\n",
        "\n",
        "# The following example shows that you can nest grouping parentheses\n",
        "re.search('(foo(bar)?)+(\\d\\d\\d)?', 'foofoobar')"
      ],
      "execution_count": 7,
      "outputs": [
        {
          "output_type": "execute_result",
          "data": {
            "text/plain": [
              "<_sre.SRE_Match object; span=(4, 7), match='bar'>"
            ]
          },
          "metadata": {
            "tags": []
          },
          "execution_count": 7
        },
        {
          "output_type": "execute_result",
          "data": {
            "text/plain": [
              "<_sre.SRE_Match object; span=(4, 10), match='barbar'>"
            ]
          },
          "metadata": {
            "tags": []
          },
          "execution_count": 7
        },
        {
          "output_type": "execute_result",
          "data": {
            "text/plain": [
              "<_sre.SRE_Match object; span=(0, 12), match='bazbarbazqux'>"
            ]
          },
          "metadata": {
            "tags": []
          },
          "execution_count": 7
        },
        {
          "output_type": "execute_result",
          "data": {
            "text/plain": [
              "<_sre.SRE_Match object; span=(0, 9), match='foofoobar'>"
            ]
          },
          "metadata": {
            "tags": []
          },
          "execution_count": 7
        }
      ]
    },
    {
      "cell_type": "code",
      "metadata": {
        "id": "lJZAq1Iwhco7",
        "colab_type": "code",
        "colab": {}
      },
      "source": [
        ""
      ],
      "execution_count": null,
      "outputs": []
    },
    {
      "cell_type": "code",
      "metadata": {
        "id": "cEWn_j14hclD",
        "colab_type": "code",
        "colab": {}
      },
      "source": [
        ""
      ],
      "execution_count": null,
      "outputs": []
    }
  ]
}
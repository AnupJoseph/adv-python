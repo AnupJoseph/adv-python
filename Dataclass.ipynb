{
  "nbformat": 4,
  "nbformat_minor": 0,
  "metadata": {
    "colab": {
      "name": "Dataclass.ipynb",
      "provenance": [],
      "authorship_tag": "ABX9TyNbkeI6gRe8X9L9BB41LyeH",
      "include_colab_link": true
    },
    "kernelspec": {
      "name": "python3",
      "display_name": "Python 3"
    }
  },
  "cells": [
    {
      "cell_type": "markdown",
      "metadata": {
        "id": "view-in-github",
        "colab_type": "text"
      },
      "source": [
        "<a href=\"https://colab.research.google.com/github/AnupJoseph/adv-python/blob/master/Dataclass.ipynb\" target=\"_parent\"><img src=\"https://colab.research.google.com/assets/colab-badge.svg\" alt=\"Open In Colab\"/></a>"
      ]
    },
    {
      "cell_type": "code",
      "metadata": {
        "id": "ls2WWDyZZWWN",
        "colab_type": "code",
        "colab": {}
      },
      "source": [
        "from IPython.core.interactiveshell import InteractiveShell\n",
        "InteractiveShell.ast_node_interactivity = \"all\""
      ],
      "execution_count": null,
      "outputs": []
    },
    {
      "cell_type": "code",
      "metadata": {
        "id": "UUy-w7SEXeSQ",
        "colab_type": "code",
        "colab": {}
      },
      "source": [
        "#A dataclass is created using the dataclass generator\n",
        "from dataclasses import dataclass\n",
        "\n",
        "@dataclass\n",
        "class DataClassCard:\n",
        "  rank:str\n",
        "  suit:str"
      ],
      "execution_count": null,
      "outputs": []
    },
    {
      "cell_type": "code",
      "metadata": {
        "id": "062I7nuyYS1r",
        "colab_type": "code",
        "colab": {
          "base_uri": "https://localhost:8080/",
          "height": 35
        },
        "outputId": "da2a5130-405e-46bd-f23b-335d6b188afe"
      },
      "source": [
        "# A dataclass has basic functionality like inistantiate,print and compare built into it\n",
        "queen_of_hearts = DataClassCard(\"Q\",\"Hearts\")\n",
        "queen_of_hearts\n",
        "\n",
        "queen_of_hearts.rank\n",
        "queen_of_hearts == DataClassCard(\"Q\",\"Hearts\")"
      ],
      "execution_count": null,
      "outputs": [
        {
          "output_type": "execute_result",
          "data": {
            "text/plain": [
              "DataClassCard(rank='Q', suit='Hearts')"
            ]
          },
          "metadata": {
            "tags": []
          },
          "execution_count": 3
        },
        {
          "output_type": "execute_result",
          "data": {
            "application/vnd.google.colaboratory.intrinsic": {
              "type": "string"
            },
            "text/plain": [
              "'Q'"
            ]
          },
          "metadata": {
            "tags": []
          },
          "execution_count": 3
        },
        {
          "output_type": "execute_result",
          "data": {
            "text/plain": [
              "True"
            ]
          },
          "metadata": {
            "tags": []
          },
          "execution_count": 3
        }
      ]
    },
    {
      "cell_type": "code",
      "metadata": {
        "id": "zRFt9bGXY5Sn",
        "colab_type": "code",
        "colab": {
          "base_uri": "https://localhost:8080/",
          "height": 35
        },
        "outputId": "807c6035-a811-4a9f-de14-7a6603ba9f05"
      },
      "source": [
        "#Comparison with a basic class which only has varible access built in\n",
        "class RegularCard:\n",
        "  def __init__(self,rank,suit):\n",
        "    self.rank = rank\n",
        "    self.suit = suit\n",
        "reg_queen_of_hearts = RegularCard(\"Q\",\"Hearts\")\n",
        "reg_queen_of_hearts\n",
        "\n",
        "reg_queen_of_hearts.rank\n",
        "reg_queen_of_hearts == RegularCard(\"Q\",\"Hearts\")"
      ],
      "execution_count": null,
      "outputs": [
        {
          "output_type": "execute_result",
          "data": {
            "text/plain": [
              "<__main__.RegularCard at 0x7f3e11bb2a20>"
            ]
          },
          "metadata": {
            "tags": []
          },
          "execution_count": 4
        },
        {
          "output_type": "execute_result",
          "data": {
            "application/vnd.google.colaboratory.intrinsic": {
              "type": "string"
            },
            "text/plain": [
              "'Q'"
            ]
          },
          "metadata": {
            "tags": []
          },
          "execution_count": 4
        },
        {
          "output_type": "execute_result",
          "data": {
            "text/plain": [
              "False"
            ]
          },
          "metadata": {
            "tags": []
          },
          "execution_count": 4
        }
      ]
    },
    {
      "cell_type": "code",
      "metadata": {
        "id": "MMzfzV91bjhE",
        "colab_type": "code",
        "colab": {}
      },
      "source": [
        "# For the regular class to mimic the dataclass functionality we need to add __repr__ and __eq__ into the regular class\n",
        "class RegularCard:\n",
        "  def __init__(self,rank,suit):\n",
        "    self.rank = rank\n",
        "    self.suit = suit\n",
        "  \n",
        "  def __repr__(self):\n",
        "    return (f'{self.__class__.__name__}'\n",
        "            f'(rank={self.rank!r},suit={self.suit!r})')\n",
        "    \n",
        "  def __eq__(self,other):\n",
        "    if other.__class__ is not self.__class__:\n",
        "      return NotImplemented\n",
        "    return (other.suit,other.rank) == (self.suit,self.rank)"
      ],
      "execution_count": null,
      "outputs": []
    },
    {
      "cell_type": "code",
      "metadata": {
        "id": "164dEx5VgXHR",
        "colab_type": "code",
        "colab": {
          "base_uri": "https://localhost:8080/",
          "height": 35
        },
        "outputId": "db14a5b1-e2de-49c9-fc40-cd6a490282f3"
      },
      "source": [
        "reg_queen_of_hearts = RegularCard(\"Q\",\"Hearts\")\n",
        "reg_queen_of_hearts\n",
        "\n",
        "reg_queen_of_hearts.rank\n",
        "reg_queen_of_hearts == RegularCard(\"Q\",\"Hearts\")"
      ],
      "execution_count": null,
      "outputs": [
        {
          "output_type": "execute_result",
          "data": {
            "text/plain": [
              "RegularCard(rank='Q',suit='Hearts')"
            ]
          },
          "metadata": {
            "tags": []
          },
          "execution_count": 6
        },
        {
          "output_type": "execute_result",
          "data": {
            "application/vnd.google.colaboratory.intrinsic": {
              "type": "string"
            },
            "text/plain": [
              "'Q'"
            ]
          },
          "metadata": {
            "tags": []
          },
          "execution_count": 6
        },
        {
          "output_type": "execute_result",
          "data": {
            "text/plain": [
              "True"
            ]
          },
          "metadata": {
            "tags": []
          },
          "execution_count": 6
        }
      ]
    },
    {
      "cell_type": "code",
      "metadata": {
        "id": "CNQBgvV2gcaG",
        "colab_type": "code",
        "colab": {
          "base_uri": "https://localhost:8080/",
          "height": 34
        },
        "outputId": "9800dd44-b98a-40b5-a992-b655c78391ca"
      },
      "source": [
        "# Use default values\n",
        "@dataclass\n",
        "class Position:\n",
        "    name: str\n",
        "    lon: float = 0.0\n",
        "    lat: float = 0.0\n",
        "pos = Position('NULL_island')\n",
        "pos"
      ],
      "execution_count": null,
      "outputs": [
        {
          "output_type": "execute_result",
          "data": {
            "text/plain": [
              "Position(name='NULL_island', lon=0.0, lat=0.0)"
            ]
          },
          "metadata": {
            "tags": []
          },
          "execution_count": 7
        }
      ]
    },
    {
      "cell_type": "code",
      "metadata": {
        "id": "Q2eS9OxKjMXM",
        "colab_type": "code",
        "colab": {}
      },
      "source": [
        "# Typing is mandatory in a dataclass. If you do not want a explicit datatype ypu need to specify that as well\n",
        "from typing import Any\n",
        "@dataclass\n",
        "class NoExplicitType:\n",
        "  name: Any\n",
        "  value: Any = 42"
      ],
      "execution_count": null,
      "outputs": []
    },
    {
      "cell_type": "code",
      "metadata": {
        "id": "oNu6NPs_j0xA",
        "colab_type": "code",
        "colab": {
          "base_uri": "https://localhost:8080/",
          "height": 34
        },
        "outputId": "168e9e3f-de53-4c26-bd66-b9ecf88c6548"
      },
      "source": [
        "# While typing is mandatory it is important to notice that this is different from static typing.The typing hints are not enforced\n",
        "# As an example let's change type of Position class\n",
        "bad_pos = Position(\"Vakola\",\"-4900.3\",209)\n",
        "bad_pos"
      ],
      "execution_count": null,
      "outputs": [
        {
          "output_type": "execute_result",
          "data": {
            "text/plain": [
              "Position(name='Vakola', lon='-4900.3', lat=209)"
            ]
          },
          "metadata": {
            "tags": []
          },
          "execution_count": 9
        }
      ]
    },
    {
      "cell_type": "code",
      "metadata": {
        "id": "cj11vBGBkkAy",
        "colab_type": "code",
        "colab": {}
      },
      "source": [
        "# Lets calculate the Haversine distance between one position on earth to another\n",
        "from math import asin, cos, radians, sin, sqrt\n",
        "\n",
        "@dataclass\n",
        "class Position:\n",
        "    name: str\n",
        "    lon: float = 0.0\n",
        "    lat: float = 0.0\n",
        "\n",
        "    def distance_to(self,other):\n",
        "      r = 6371\n",
        "      lam_1,lam_2 = radians(self.lon),radians(other.lon)\n",
        "      phi_1,phi_2 = radians(self.lat),radians(other.lat)\n",
        "      h = (sin((phi_1 - phi_2)/2)**2\n",
        "           + cos(phi_1)*cos(phi_2)*sin((lam_1 - lam_2)/2)**2)\n",
        "      return 2*r*asin(sqrt(h))"
      ],
      "execution_count": null,
      "outputs": []
    },
    {
      "cell_type": "code",
      "metadata": {
        "id": "30FoLuhAmNww",
        "colab_type": "code",
        "colab": {
          "base_uri": "https://localhost:8080/",
          "height": 34
        },
        "outputId": "2039a124-1296-42c9-907a-29c893300172"
      },
      "source": [
        "# The distance_to() function works pretty much as you would expect it to work\n",
        "oslo = Position('Oslo', 10.8, 59.9)\n",
        "vancouver = Position('Vancouver', -123.1, 49.3)\n",
        "oslo.distance_to(vancouver)"
      ],
      "execution_count": null,
      "outputs": [
        {
          "output_type": "execute_result",
          "data": {
            "text/plain": [
              "7181.7841229421165"
            ]
          },
          "metadata": {
            "tags": []
          },
          "execution_count": 11
        }
      ]
    },
    {
      "cell_type": "code",
      "metadata": {
        "id": "qJhqpgRTmpTA",
        "colab_type": "code",
        "colab": {}
      },
      "source": [
        "# More flexible dataclasses\n",
        "from dataclasses import dataclass\n",
        "from typing import List\n",
        "\n",
        "@dataclass\n",
        "class PlayingCard:\n",
        "    rank: str\n",
        "    suit: str\n",
        "\n",
        "@dataclass\n",
        "class Deck:\n",
        "    cards: List[PlayingCard]"
      ],
      "execution_count": null,
      "outputs": []
    },
    {
      "cell_type": "code",
      "metadata": {
        "id": "mItV3ANpm3oP",
        "colab_type": "code",
        "colab": {
          "base_uri": "https://localhost:8080/",
          "height": 34
        },
        "outputId": "63822a7b-9869-4ded-aaa1-a6e9a3ac3069"
      },
      "source": [
        "queen_of_hearts = PlayingCard('Q', 'Hearts')\n",
        "ace_of_spades = PlayingCard('A', 'Spades')\n",
        "two_cards = Deck([queen_of_hearts, ace_of_spades])\n",
        "two_cards"
      ],
      "execution_count": null,
      "outputs": [
        {
          "output_type": "execute_result",
          "data": {
            "text/plain": [
              "Deck(cards=[PlayingCard(rank='Q', suit='Hearts'), PlayingCard(rank='A', suit='Spades')])"
            ]
          },
          "metadata": {
            "tags": []
          },
          "execution_count": 13
        }
      ]
    },
    {
      "cell_type": "code",
      "metadata": {
        "id": "Hr0I8qUXnWrF",
        "colab_type": "code",
        "colab": {
          "base_uri": "https://localhost:8080/",
          "height": 187
        },
        "outputId": "706c8c93-b9bf-46bc-90a9-a96cbb69c0b0"
      },
      "source": [
        "# Lets make an entire deck of cards\n",
        "RANKS = '2 3 4 5 6 7 8 9 10 J Q K A'.split()\n",
        "SUITS = '♣ ♢ ♡ ♠'.split()\n",
        "\n",
        "def make_french_deck():\n",
        "    return [PlayingCard(r, s) for s in SUITS for r in RANKS]\n",
        "\n",
        "make_french_deck()[:10]"
      ],
      "execution_count": null,
      "outputs": [
        {
          "output_type": "execute_result",
          "data": {
            "text/plain": [
              "[PlayingCard(rank='2', suit='♣'),\n",
              " PlayingCard(rank='3', suit='♣'),\n",
              " PlayingCard(rank='4', suit='♣'),\n",
              " PlayingCard(rank='5', suit='♣'),\n",
              " PlayingCard(rank='6', suit='♣'),\n",
              " PlayingCard(rank='7', suit='♣'),\n",
              " PlayingCard(rank='8', suit='♣'),\n",
              " PlayingCard(rank='9', suit='♣'),\n",
              " PlayingCard(rank='10', suit='♣'),\n",
              " PlayingCard(rank='J', suit='♣')]"
            ]
          },
          "metadata": {
            "tags": []
          },
          "execution_count": 14
        }
      ]
    },
    {
      "cell_type": "code",
      "metadata": {
        "id": "Lhei5IHWno2s",
        "colab_type": "code",
        "colab": {
          "base_uri": "https://localhost:8080/",
          "height": 54
        },
        "outputId": "20d46166-83a7-4a53-9764-13b581c390b9"
      },
      "source": [
        "# To use this function to make the deck by default we use the default_factory parameter\n",
        "# We import the field specifier to use this \n",
        "from dataclasses import dataclass,field\n",
        "from typing import List\n",
        "\n",
        "@dataclass\n",
        "class Deck:\n",
        "  cards: List[PlayingCard] = field(default_factory = make_french_deck)\n",
        "\n",
        "Deck()"
      ],
      "execution_count": null,
      "outputs": [
        {
          "output_type": "execute_result",
          "data": {
            "text/plain": [
              "Deck(cards=[PlayingCard(rank='2', suit='♣'), PlayingCard(rank='3', suit='♣'), PlayingCard(rank='4', suit='♣'), PlayingCard(rank='5', suit='♣'), PlayingCard(rank='6', suit='♣'), PlayingCard(rank='7', suit='♣'), PlayingCard(rank='8', suit='♣'), PlayingCard(rank='9', suit='♣'), PlayingCard(rank='10', suit='♣'), PlayingCard(rank='J', suit='♣'), PlayingCard(rank='Q', suit='♣'), PlayingCard(rank='K', suit='♣'), PlayingCard(rank='A', suit='♣'), PlayingCard(rank='2', suit='♢'), PlayingCard(rank='3', suit='♢'), PlayingCard(rank='4', suit='♢'), PlayingCard(rank='5', suit='♢'), PlayingCard(rank='6', suit='♢'), PlayingCard(rank='7', suit='♢'), PlayingCard(rank='8', suit='♢'), PlayingCard(rank='9', suit='♢'), PlayingCard(rank='10', suit='♢'), PlayingCard(rank='J', suit='♢'), PlayingCard(rank='Q', suit='♢'), PlayingCard(rank='K', suit='♢'), PlayingCard(rank='A', suit='♢'), PlayingCard(rank='2', suit='♡'), PlayingCard(rank='3', suit='♡'), PlayingCard(rank='4', suit='♡'), PlayingCard(rank='5', suit='♡'), PlayingCard(rank='6', suit='♡'), PlayingCard(rank='7', suit='♡'), PlayingCard(rank='8', suit='♡'), PlayingCard(rank='9', suit='♡'), PlayingCard(rank='10', suit='♡'), PlayingCard(rank='J', suit='♡'), PlayingCard(rank='Q', suit='♡'), PlayingCard(rank='K', suit='♡'), PlayingCard(rank='A', suit='♡'), PlayingCard(rank='2', suit='♠'), PlayingCard(rank='3', suit='♠'), PlayingCard(rank='4', suit='♠'), PlayingCard(rank='5', suit='♠'), PlayingCard(rank='6', suit='♠'), PlayingCard(rank='7', suit='♠'), PlayingCard(rank='8', suit='♠'), PlayingCard(rank='9', suit='♠'), PlayingCard(rank='10', suit='♠'), PlayingCard(rank='J', suit='♠'), PlayingCard(rank='Q', suit='♠'), PlayingCard(rank='K', suit='♠'), PlayingCard(rank='A', suit='♠')])"
            ]
          },
          "metadata": {
            "tags": []
          },
          "execution_count": 15
        }
      ]
    },
    {
      "cell_type": "code",
      "metadata": {
        "id": "ydd9lRAeojtu",
        "colab_type": "code",
        "colab": {
          "base_uri": "https://localhost:8080/",
          "height": 71
        },
        "outputId": "85791368-f9ad-4138-ff34-04b4f00b149c"
      },
      "source": [
        "# To make the outputs look better than above we can use the __str__() method\n",
        "from dataclasses import dataclass\n",
        "\n",
        "@dataclass\n",
        "class PlayingCard:\n",
        "    rank: str\n",
        "    suit: str\n",
        "\n",
        "    def __str__(self):\n",
        "        return f'{self.suit}{self.rank}'\n",
        "\n",
        "@dataclass\n",
        "class Deck:\n",
        "  cards: List[PlayingCard] = field(default_factory = make_french_deck)\n",
        "\n",
        "ace_of_spades = PlayingCard('A', '♠')\n",
        "print(ace_of_spades)\n",
        "Deck()"
      ],
      "execution_count": 17,
      "outputs": [
        {
          "output_type": "stream",
          "text": [
            "♠A\n"
          ],
          "name": "stdout"
        },
        {
          "output_type": "execute_result",
          "data": {
            "text/plain": [
              "Deck(cards=[PlayingCard(rank='2', suit='♣'), PlayingCard(rank='3', suit='♣'), PlayingCard(rank='4', suit='♣'), PlayingCard(rank='5', suit='♣'), PlayingCard(rank='6', suit='♣'), PlayingCard(rank='7', suit='♣'), PlayingCard(rank='8', suit='♣'), PlayingCard(rank='9', suit='♣'), PlayingCard(rank='10', suit='♣'), PlayingCard(rank='J', suit='♣'), PlayingCard(rank='Q', suit='♣'), PlayingCard(rank='K', suit='♣'), PlayingCard(rank='A', suit='♣'), PlayingCard(rank='2', suit='♢'), PlayingCard(rank='3', suit='♢'), PlayingCard(rank='4', suit='♢'), PlayingCard(rank='5', suit='♢'), PlayingCard(rank='6', suit='♢'), PlayingCard(rank='7', suit='♢'), PlayingCard(rank='8', suit='♢'), PlayingCard(rank='9', suit='♢'), PlayingCard(rank='10', suit='♢'), PlayingCard(rank='J', suit='♢'), PlayingCard(rank='Q', suit='♢'), PlayingCard(rank='K', suit='♢'), PlayingCard(rank='A', suit='♢'), PlayingCard(rank='2', suit='♡'), PlayingCard(rank='3', suit='♡'), PlayingCard(rank='4', suit='♡'), PlayingCard(rank='5', suit='♡'), PlayingCard(rank='6', suit='♡'), PlayingCard(rank='7', suit='♡'), PlayingCard(rank='8', suit='♡'), PlayingCard(rank='9', suit='♡'), PlayingCard(rank='10', suit='♡'), PlayingCard(rank='J', suit='♡'), PlayingCard(rank='Q', suit='♡'), PlayingCard(rank='K', suit='♡'), PlayingCard(rank='A', suit='♡'), PlayingCard(rank='2', suit='♠'), PlayingCard(rank='3', suit='♠'), PlayingCard(rank='4', suit='♠'), PlayingCard(rank='5', suit='♠'), PlayingCard(rank='6', suit='♠'), PlayingCard(rank='7', suit='♠'), PlayingCard(rank='8', suit='♠'), PlayingCard(rank='9', suit='♠'), PlayingCard(rank='10', suit='♠'), PlayingCard(rank='J', suit='♠'), PlayingCard(rank='Q', suit='♠'), PlayingCard(rank='K', suit='♠'), PlayingCard(rank='A', suit='♠')])"
            ]
          },
          "metadata": {
            "tags": []
          },
          "execution_count": 17
        }
      ]
    },
    {
      "cell_type": "code",
      "metadata": {
        "id": "YRAJEay6_FBm",
        "colab_type": "code",
        "colab": {
          "base_uri": "https://localhost:8080/",
          "height": 54
        },
        "outputId": "032050c4-f9be-4c5c-c634-da5c6bd8a219"
      },
      "source": [
        "# The card looks more compact but the deck is as bad as ever\n",
        "# Lets change that\n",
        "@dataclass\n",
        "class Deck:\n",
        "  cards: List[PlayingCard] = field(default_factory = make_french_deck)\n",
        "\n",
        "  def __repr__(self):\n",
        "    cards = ', '.join(f'{c!s}' for c in self.cards)\n",
        "    return f'{self.__class__.__name__}({cards})'\n",
        "\n",
        "Deck()"
      ],
      "execution_count": 18,
      "outputs": [
        {
          "output_type": "execute_result",
          "data": {
            "text/plain": [
              "Deck(♣2, ♣3, ♣4, ♣5, ♣6, ♣7, ♣8, ♣9, ♣10, ♣J, ♣Q, ♣K, ♣A, ♢2, ♢3, ♢4, ♢5, ♢6, ♢7, ♢8, ♢9, ♢10, ♢J, ♢Q, ♢K, ♢A, ♡2, ♡3, ♡4, ♡5, ♡6, ♡7, ♡8, ♡9, ♡10, ♡J, ♡Q, ♡K, ♡A, ♠2, ♠3, ♠4, ♠5, ♠6, ♠7, ♠8, ♠9, ♠10, ♠J, ♠Q, ♠K, ♠A)"
            ]
          },
          "metadata": {
            "tags": []
          },
          "execution_count": 18
        }
      ]
    },
    {
      "cell_type": "code",
      "metadata": {
        "id": "78TDNK-A_6T2",
        "colab_type": "code",
        "colab": {
          "base_uri": "https://localhost:8080/",
          "height": 231
        },
        "outputId": "78218d5d-0994-4bc6-8474-f84757eb4cb1"
      },
      "source": [
        "# To create a immumtable dataclass just use set frozen\n",
        "from dataclasses import dataclass\n",
        "\n",
        "@dataclass(frozen=True)\n",
        "class Position:\n",
        "  name: str\n",
        "  lat: float = 0.0\n",
        "  lon: float = 0.0\n",
        "\n",
        "pos = Position('Oslo', 10.8, 59.9)\n",
        "# This works like you would expect it too i.e. we cannot reset it to something else\n",
        "pos.name = 'Helsinki'"
      ],
      "execution_count": 19,
      "outputs": [
        {
          "output_type": "error",
          "ename": "FrozenInstanceError",
          "evalue": "ignored",
          "traceback": [
            "\u001b[0;31m---------------------------------------------------------------------------\u001b[0m",
            "\u001b[0;31mFrozenInstanceError\u001b[0m                       Traceback (most recent call last)",
            "\u001b[0;32m<ipython-input-19-de9e940a43eb>\u001b[0m in \u001b[0;36m<module>\u001b[0;34m()\u001b[0m\n\u001b[1;32m     10\u001b[0m \u001b[0mpos\u001b[0m \u001b[0;34m=\u001b[0m \u001b[0mPosition\u001b[0m\u001b[0;34m(\u001b[0m\u001b[0;34m'Oslo'\u001b[0m\u001b[0;34m,\u001b[0m \u001b[0;36m10.8\u001b[0m\u001b[0;34m,\u001b[0m \u001b[0;36m59.9\u001b[0m\u001b[0;34m)\u001b[0m\u001b[0;34m\u001b[0m\u001b[0;34m\u001b[0m\u001b[0m\n\u001b[1;32m     11\u001b[0m \u001b[0;31m# This works like you would expect it too i.e. we cannot reset it to something else\u001b[0m\u001b[0;34m\u001b[0m\u001b[0;34m\u001b[0m\u001b[0;34m\u001b[0m\u001b[0m\n\u001b[0;32m---> 12\u001b[0;31m \u001b[0mpos\u001b[0m\u001b[0;34m.\u001b[0m\u001b[0mname\u001b[0m \u001b[0;34m=\u001b[0m \u001b[0;34m'Helsinki'\u001b[0m\u001b[0;34m\u001b[0m\u001b[0;34m\u001b[0m\u001b[0m\n\u001b[0m",
            "\u001b[0;32m<string>\u001b[0m in \u001b[0;36m__setattr__\u001b[0;34m(self, name, value)\u001b[0m\n",
            "\u001b[0;31mFrozenInstanceError\u001b[0m: cannot assign to field 'name'"
          ]
        }
      ]
    },
    {
      "cell_type": "code",
      "metadata": {
        "id": "Np2Xie5ABtiK",
        "colab_type": "code",
        "colab": {
          "base_uri": "https://localhost:8080/",
          "height": 34
        },
        "outputId": "1a614fae-7a2f-4523-de3e-bdf8696b2697"
      },
      "source": [
        "# Inheritance in dataclass\n",
        "@dataclass\n",
        "class Position:\n",
        "  name: str\n",
        "  lat: float\n",
        "  lon: float\n",
        "\n",
        "@dataclass\n",
        "class Capitol(Position):\n",
        "  country: str\n",
        "\n",
        "Capitol('Oslo', 10.8, 59.9, 'Norway')"
      ],
      "execution_count": 20,
      "outputs": [
        {
          "output_type": "execute_result",
          "data": {
            "text/plain": [
              "Capitol(name='Oslo', lat=10.8, lon=59.9, country='Norway')"
            ]
          },
          "metadata": {
            "tags": []
          },
          "execution_count": 20
        }
      ]
    },
    {
      "cell_type": "code",
      "metadata": {
        "id": "s-fSx8tYCmNM",
        "colab_type": "code",
        "colab": {}
      },
      "source": [
        "@dataclass\n",
        "class Position:\n",
        "  name: str\n",
        "  lat: float = 0.0\n",
        "  lon: float = 0.0\n",
        "\n",
        "@dataclass\n",
        "class Capitol(Position):\n",
        "  country: str\n",
        "\n",
        "# This simply does not work as it is not valid python.  If a parameter has a default value, all following parameters must also have a default value\n"
      ],
      "execution_count": null,
      "outputs": []
    },
    {
      "cell_type": "code",
      "metadata": {
        "id": "IiPmS3_rDGya",
        "colab_type": "code",
        "colab": {
          "base_uri": "https://localhost:8080/",
          "height": 34
        },
        "outputId": "77a91364-b68b-4552-90f8-20ab28334e0d"
      },
      "source": [
        "@dataclass\n",
        "class Position:\n",
        "    name: str\n",
        "    lon: float = 0.0\n",
        "    lat: float = 0.0\n",
        "\n",
        "@dataclass\n",
        "class Capital(Position):\n",
        "    country: str = 'Unknown'\n",
        "    lat: float = 40.0\n",
        "\n",
        "# This is valid and has lat with a default value of 40.0\n",
        "Capital('Madrid', country='Spain')"
      ],
      "execution_count": 21,
      "outputs": [
        {
          "output_type": "execute_result",
          "data": {
            "text/plain": [
              "Capital(name='Madrid', lon=0.0, lat=40.0, country='Spain')"
            ]
          },
          "metadata": {
            "tags": []
          },
          "execution_count": 21
        }
      ]
    },
    {
      "cell_type": "code",
      "metadata": {
        "id": "00N2gGB5DVV7",
        "colab_type": "code",
        "colab": {}
      },
      "source": [
        ""
      ],
      "execution_count": null,
      "outputs": []
    }
  ]
}